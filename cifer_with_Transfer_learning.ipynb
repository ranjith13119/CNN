{
  "nbformat": 4,
  "nbformat_minor": 0,
  "metadata": {
    "colab": {
      "name": "cifer with Transfer learning.ipynb",
      "provenance": [],
      "collapsed_sections": [],
      "authorship_tag": "ABX9TyOzFtt1SaUWQiKRaJ+veYXO",
      "include_colab_link": true
    },
    "kernelspec": {
      "name": "python3",
      "display_name": "Python 3"
    },
    "accelerator": "GPU"
  },
  "cells": [
    {
      "cell_type": "markdown",
      "metadata": {
        "id": "view-in-github",
        "colab_type": "text"
      },
      "source": [
        "<a href=\"https://colab.research.google.com/github/ranjith13119/CNN/blob/main/cifer_with_Transfer_learning.ipynb\" target=\"_parent\"><img src=\"https://colab.research.google.com/assets/colab-badge.svg\" alt=\"Open In Colab\"/></a>"
      ]
    },
    {
      "cell_type": "code",
      "metadata": {
        "id": "T4_E4NpMtmw0"
      },
      "source": [
        "from sklearn.utils.multiclass import unique_labels\n",
        "#Import standard libraries\n",
        "\n",
        "import matplotlib.pyplot as plt\n",
        "import matplotlib.image as mpimg\n",
        "import seaborn as sns\n",
        "import itertools\n",
        "from sklearn.model_selection import train_test_split\n",
        "from sklearn.metrics import confusion_matrix"
      ],
      "execution_count": null,
      "outputs": []
    },
    {
      "cell_type": "markdown",
      "metadata": {
        "id": "knqfEqVU0b0t"
      },
      "source": [
        "https://www.kaggle.com/adi160/cifar-10-keras-transfer-learning"
      ]
    },
    {
      "cell_type": "code",
      "metadata": {
        "id": "CaRc1EYozkF7"
      },
      "source": [
        "from keras import Sequential\n",
        "from keras.applications import VGG19,ResNet50\n",
        "from keras.preprocessing.image import ImageDataGenerator\n",
        "from keras.optimizers import SGD,Adam\n",
        "from keras.callbacks import ReduceLROnPlateau\n",
        "from keras.layers import Flatten,Dense,BatchNormalization,Activation,Dropout\n",
        "from keras.utils import to_categorical"
      ],
      "execution_count": null,
      "outputs": []
    },
    {
      "cell_type": "code",
      "metadata": {
        "id": "4phYmG1Zzw52"
      },
      "source": [
        "import keras\n",
        "from keras.datasets import cifar10\n",
        "from keras.applications import VGG19"
      ],
      "execution_count": null,
      "outputs": []
    },
    {
      "cell_type": "code",
      "metadata": {
        "id": "cloy8XcS1HgH"
      },
      "source": [
        "from keras.layers import Input\n",
        "\n",
        "vgg19_model = VGG19(include_top = True, weights='imagenet')\n",
        "vgg19_model.summary()"
      ],
      "execution_count": null,
      "outputs": []
    },
    {
      "cell_type": "code",
      "metadata": {
        "id": "DN1IXxQi1Q6n"
      },
      "source": [
        "from keras.models import Sequential\n",
        "from keras.layers import Dense, Flatten, Dropout\n",
        "\n",
        "# define new empty model\n",
        "model = Sequential()\n",
        "\n",
        "# add all layers except output from VGG19 to new model\n",
        "for layer in vgg19_model.layers[:-1]:\n",
        "  model.add(layer)\n",
        "  \n",
        "# freeze all weights\n",
        "for layer in model.layers:\n",
        "  layer.trainable = False\n",
        "  \n",
        "# add dropout layer and new output layer\n",
        "model.add(Dropout(0.5))\n",
        "model.add(Dense(10, activation='softmax'))\n",
        "model.summary()"
      ],
      "execution_count": null,
      "outputs": []
    },
    {
      "cell_type": "code",
      "metadata": {
        "id": "T1h97p4A1rgS"
      },
      "source": [
        "(x_train, y_train) , (x_val, y_val) = cifar10.load_data()   "
      ],
      "execution_count": null,
      "outputs": []
    },
    {
      "cell_type": "code",
      "metadata": {
        "id": "HdE0faYI1uCj"
      },
      "source": [
        "import numpy as np\n",
        "import cv2\n",
        "\n",
        "import matplotlib.pyplot as plt\n",
        "\n",
        "NUM_CLASSES = 10\n",
        "\n",
        "# Onehot encode labels\n",
        "\n",
        "y_train = keras.utils.to_categorical(y_train, NUM_CLASSES)\n",
        "y_val = keras.utils.to_categorical(y_val, NUM_CLASSES)"
      ],
      "execution_count": null,
      "outputs": []
    },
    {
      "cell_type": "code",
      "metadata": {
        "colab": {
          "base_uri": "https://localhost:8080/"
        },
        "id": "0vlGWGiX11os",
        "outputId": "a4e4dcfe-a177-48d2-d6aa-9ca1b91cbcc4"
      },
      "source": [
        "print(y_train.shape)\n",
        "print(y_val.shape)"
      ],
      "execution_count": null,
      "outputs": [
        {
          "output_type": "stream",
          "text": [
            "(50000, 10)\n",
            "(10000, 10)\n"
          ],
          "name": "stdout"
        }
      ]
    },
    {
      "cell_type": "code",
      "metadata": {
        "id": "-CL2IFJ51-6C"
      },
      "source": [
        "model.compile(optimizer=\"adam\", loss=\"categorical_crossentropy\", metrics=[\"categorical_accuracy\"])"
      ],
      "execution_count": null,
      "outputs": []
    },
    {
      "cell_type": "code",
      "metadata": {
        "id": "3-XG3oii2EgK"
      },
      "source": [
        "def getBatch(batch_size, train_or_val='train'):\n",
        "  x_batch = []\n",
        "  y_batch = []\n",
        "  if train_or_val == 'train':\n",
        "    idx = np.random.randint(0, len(x_train), (batch_size))\n",
        "\n",
        "    for i in idx:\n",
        "      img = cv2.resize(x_train[i], (224, 224), interpolation=cv2.INTER_CUBIC)\n",
        "      x_batch.append(img)\n",
        "      y_batch.append(y_train[i])\n",
        "  elif train_or_val == 'val':\n",
        "    idx = np.random.randint(0, len(x_val), (batch_size))\n",
        "\n",
        "    for i in idx:\n",
        "      img = cv2.resize(x_val[i], (224, 224), interpolation=cv2.INTER_CUBIC)\n",
        "      x_batch.append(img)\n",
        "      y_batch.append(y_val[i]) \n",
        "  else:\n",
        "    print(\"error, please specify train or val\")\n",
        "   \n",
        "  x_batch = np.array(x_batch)\n",
        "  y_batch = np.array(y_batch)\n",
        "  return x_batch, y_batch"
      ],
      "execution_count": null,
      "outputs": []
    },
    {
      "cell_type": "code",
      "metadata": {
        "id": "BDvNT2YV2MW8"
      },
      "source": [
        "EPOCHS = 20\n",
        "BATCH_SIZE = 250\n",
        "VAL_SIZE = 500\n",
        "STEPS = 50\n",
        "\n",
        "\n",
        "for e in range(EPOCHS):\n",
        "  train_loss = 0\n",
        "  train_acc = 0\n",
        "  \n",
        "  for s in range(STEPS):\n",
        "    x_batch, y_batch = getBatch(BATCH_SIZE, \"train\")\n",
        "    out = model.train_on_batch(x_batch, y_batch)\n",
        "    train_loss += out[0]\n",
        "    train_acc += out[1]\n",
        "  \n",
        "  print(f\"Epoch: {e}\\nTraining Loss = {train_loss / STEPS}\\tTraining Acc = {train_acc / STEPS}\")\n",
        "  \n",
        "  x_v, y_v = getBatch(VAL_SIZE, \"val\")\n",
        "  eval = model.evaluate(x_v, y_v)\n",
        "  print(f\"Validation loss: {eval[0]}\\tValidation Acc: {eval[1]}\\n\")"
      ],
      "execution_count": null,
      "outputs": []
    },
    {
      "cell_type": "code",
      "metadata": {
        "id": "5H41ugnj2aQs"
      },
      "source": [
        "\n",
        "# Sample outputs from validation set\n",
        "CATEGORIES = \"airplane automobile bird cat deer dog frog horse ship truck\".split(\" \")\n",
        "\n",
        "import matplotlib.pyplot as plt\n",
        "\n",
        "x_v, y_v = getBatch(10, \"val\")\n",
        "\n",
        "for i in range(10):\n",
        "\n",
        "  import numpy as np\n",
        "  plt.imshow(x_v[i])\n",
        "  plt.show()\n",
        "  print(\"pred: \" +  CATEGORIES[np.argmax(model.predict(x_v[i:i+1]))])\n",
        "  print(\"acct: \" + CATEGORIES[np.argmax(y_v[i])])"
      ],
      "execution_count": null,
      "outputs": []
    }
  ]
}