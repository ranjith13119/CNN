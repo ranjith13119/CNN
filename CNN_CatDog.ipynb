{
  "nbformat": 4,
  "nbformat_minor": 0,
  "metadata": {
    "accelerator": "TPU",
    "colab": {
      "name": "CNN-CatDog.ipynb",
      "provenance": [],
      "collapsed_sections": [],
      "mount_file_id": "1IjJTnQgKp-YN0gqKQWh1frMzb7ln5vO-",
      "authorship_tag": "ABX9TyO5Blyfi4AlclfR4qucyA4Q",
      "include_colab_link": true
    },
    "kernelspec": {
      "display_name": "Python 3",
      "name": "python3"
    }
  },
  "cells": [
    {
      "cell_type": "markdown",
      "metadata": {
        "id": "view-in-github",
        "colab_type": "text"
      },
      "source": [
        "<a href=\"https://colab.research.google.com/github/ranjith13119/CNN/blob/main/CNN_CatDog.ipynb\" target=\"_parent\"><img src=\"https://colab.research.google.com/assets/colab-badge.svg\" alt=\"Open In Colab\"/></a>"
      ]
    },
    {
      "cell_type": "code",
      "metadata": {
        "colab": {
          "base_uri": "https://localhost:8080/"
        },
        "id": "3xiAaENwHyHJ",
        "outputId": "97a679dd-b1ea-4f93-d5b1-e61af8eac774"
      },
      "source": [
        "# !p7zip -d '/content/drive/MyDrive/CNN/dataset.7z'"
      ],
      "execution_count": null,
      "outputs": [
        {
          "output_type": "stream",
          "text": [
            "/usr/bin/p7zip: cannot read /content/drive/MyDrive/CNN/dataset.7z\n"
          ],
          "name": "stdout"
        }
      ]
    },
    {
      "cell_type": "code",
      "metadata": {
        "id": "ovlcj7DmKRG5"
      },
      "source": [
        "import tensorflow as tf\n",
        "from keras.preprocessing.image import ImageDataGenerator "
      ],
      "execution_count": null,
      "outputs": []
    },
    {
      "cell_type": "code",
      "metadata": {
        "id": "wnnJBS2BLcty"
      },
      "source": [
        "train_datagen = ImageDataGenerator(rescale=1./255,\n",
        "                                   shear_range = 02.2,\n",
        "                                   zoom_range = 0.2,\n",
        "                                   horizontal_flip = True,\n",
        "                                   width_shift_range = 0.1,\n",
        "                                   height_shift_range = 0.1)"
      ],
      "execution_count": null,
      "outputs": []
    },
    {
      "cell_type": "code",
      "metadata": {
        "id": "iYUzViN2MInG"
      },
      "source": [
        "training_set = train_datagen.flow_from_directory(directory= '/content/dataset/training_set',\n",
        "                                                 target_size = (64, 64),class_mode = 'binary')"
      ],
      "execution_count": null,
      "outputs": []
    },
    {
      "cell_type": "code",
      "metadata": {
        "id": "xVmDqz0JMz5e"
      },
      "source": [
        "training_set.num_classes"
      ],
      "execution_count": null,
      "outputs": []
    },
    {
      "cell_type": "code",
      "metadata": {
        "id": "LYd1BP5ANLrq"
      },
      "source": [
        "test_datagen = ImageDataGenerator(rescale = 1./255)\n",
        "test_set = test_datagen.flow_from_directory('/content/dataset/test_set',\n",
        "                                            target_size = (64, 64),\n",
        "                                            class_mode = 'binary')"
      ],
      "execution_count": null,
      "outputs": []
    },
    {
      "cell_type": "code",
      "metadata": {
        "id": "bm2PdyDUQHrk"
      },
      "source": [
        "from matplotlib import pyplot\n",
        "from keras.utils import to_categorical\n",
        "from keras.models import Sequential\n",
        "from keras.layers import Conv2D\n",
        "from keras.layers import MaxPooling2D\n",
        "from keras.layers import Dense\n",
        "from keras.layers import Flatten\n",
        "from keras.optimizers import SGD"
      ],
      "execution_count": null,
      "outputs": []
    },
    {
      "cell_type": "code",
      "metadata": {
        "id": "g7383HeFNTU_"
      },
      "source": [
        "cnn = Sequential()"
      ],
      "execution_count": null,
      "outputs": []
    },
    {
      "cell_type": "code",
      "metadata": {
        "id": "HfakheBINajX"
      },
      "source": [
        "cnn.add(Conv2D(32, (3, 3), activation='relu', kernel_initializer='he_uniform', input_shape=(64, 64, 3)))"
      ],
      "execution_count": null,
      "outputs": []
    },
    {
      "cell_type": "code",
      "metadata": {
        "id": "Mbgc6tnXQvoJ"
      },
      "source": [
        "cnn.add(MaxPooling2D(pool_size=(2,2), strides=2))"
      ],
      "execution_count": null,
      "outputs": []
    },
    {
      "cell_type": "code",
      "metadata": {
        "id": "Iubw-H-uRsen"
      },
      "source": [
        "cnn.add(Conv2D(32, (3, 3), activation='relu', kernel_initializer='he_uniform'))\n",
        "cnn.add(MaxPooling2D(pool_size=(2,2), strides=2))"
      ],
      "execution_count": null,
      "outputs": []
    },
    {
      "cell_type": "code",
      "metadata": {
        "id": "V9JJ0yrwR3sp"
      },
      "source": [
        "cnn.add(Flatten())"
      ],
      "execution_count": null,
      "outputs": []
    },
    {
      "cell_type": "code",
      "metadata": {
        "id": "zG5JCl_CR7AA"
      },
      "source": [
        "cnn.add(Dense(128, activation='relu', kernel_initializer='he_uniform'))"
      ],
      "execution_count": null,
      "outputs": []
    },
    {
      "cell_type": "code",
      "metadata": {
        "id": "mSsJR7d7SLkR"
      },
      "source": [
        "cnn.add(Dense(1, activation = 'sigmoid'))"
      ],
      "execution_count": null,
      "outputs": []
    },
    {
      "cell_type": "code",
      "metadata": {
        "id": "RK9AtzAESaR4"
      },
      "source": [
        "cnn.compile(optimizer = 'adam', loss = 'binary_crossentropy', metrics = ['accuracy'])"
      ],
      "execution_count": null,
      "outputs": []
    },
    {
      "cell_type": "code",
      "metadata": {
        "colab": {
          "background_save": true
        },
        "id": "xuQzkgPQScps",
        "outputId": "3e481336-83b6-4c54-87a0-2a7434f968c2"
      },
      "source": [
        "cnn.fit(x = training_set, validation_data = test_set, epochs = 25)"
      ],
      "execution_count": null,
      "outputs": [
        {
          "output_type": "stream",
          "text": [
            "Epoch 1/25\n",
            "250/250 [==============================] - 67s 267ms/step - loss: 0.8462 - accuracy: 0.5265 - val_loss: 0.6568 - val_accuracy: 0.5830\n",
            "Epoch 2/25\n",
            "250/250 [==============================] - 66s 265ms/step - loss: 0.6438 - accuracy: 0.6301 - val_loss: 0.5764 - val_accuracy: 0.7065\n",
            "Epoch 3/25\n",
            "250/250 [==============================] - 66s 265ms/step - loss: 0.5923 - accuracy: 0.6983 - val_loss: 0.5534 - val_accuracy: 0.7225\n",
            "Epoch 4/25\n",
            "250/250 [==============================] - 66s 262ms/step - loss: 0.5569 - accuracy: 0.7135 - val_loss: 0.5217 - val_accuracy: 0.7555\n",
            "Epoch 5/25\n",
            "250/250 [==============================] - 66s 264ms/step - loss: 0.5297 - accuracy: 0.7389 - val_loss: 0.4895 - val_accuracy: 0.7725\n",
            "Epoch 6/25\n",
            "250/250 [==============================] - 66s 264ms/step - loss: 0.5226 - accuracy: 0.7329 - val_loss: 0.4688 - val_accuracy: 0.7835\n",
            "Epoch 7/25\n",
            "250/250 [==============================] - 66s 264ms/step - loss: 0.5064 - accuracy: 0.7506 - val_loss: 0.4838 - val_accuracy: 0.7640\n",
            "Epoch 8/25\n",
            "250/250 [==============================] - 66s 264ms/step - loss: 0.4982 - accuracy: 0.7583 - val_loss: 0.5497 - val_accuracy: 0.7275\n",
            "Epoch 9/25\n",
            "250/250 [==============================] - 66s 265ms/step - loss: 0.4828 - accuracy: 0.7645 - val_loss: 0.5976 - val_accuracy: 0.7245\n",
            "Epoch 10/25\n",
            "250/250 [==============================] - 66s 265ms/step - loss: 0.4864 - accuracy: 0.7674 - val_loss: 0.4826 - val_accuracy: 0.7570\n",
            "Epoch 11/25\n",
            "250/250 [==============================] - 66s 265ms/step - loss: 0.4693 - accuracy: 0.7718 - val_loss: 0.4886 - val_accuracy: 0.7705\n",
            "Epoch 12/25\n",
            "250/250 [==============================] - 66s 264ms/step - loss: 0.4492 - accuracy: 0.7815 - val_loss: 0.4934 - val_accuracy: 0.7555\n",
            "Epoch 13/25\n",
            "250/250 [==============================] - 66s 264ms/step - loss: 0.4497 - accuracy: 0.7826 - val_loss: 0.5739 - val_accuracy: 0.7265\n",
            "Epoch 14/25\n",
            "250/250 [==============================] - 66s 265ms/step - loss: 0.4494 - accuracy: 0.7888 - val_loss: 0.4921 - val_accuracy: 0.7630\n",
            "Epoch 15/25\n",
            "250/250 [==============================] - 66s 262ms/step - loss: 0.4487 - accuracy: 0.7880 - val_loss: 0.4796 - val_accuracy: 0.7925\n",
            "Epoch 16/25\n",
            "250/250 [==============================] - 66s 264ms/step - loss: 0.4391 - accuracy: 0.7960 - val_loss: 0.4294 - val_accuracy: 0.8000\n",
            "Epoch 17/25\n",
            "250/250 [==============================] - 66s 264ms/step - loss: 0.4473 - accuracy: 0.7909 - val_loss: 0.4240 - val_accuracy: 0.8040\n",
            "Epoch 18/25\n",
            "250/250 [==============================] - 66s 264ms/step - loss: 0.4178 - accuracy: 0.7994 - val_loss: 0.4187 - val_accuracy: 0.8070\n",
            "Epoch 19/25\n",
            "250/250 [==============================] - 66s 264ms/step - loss: 0.4073 - accuracy: 0.8090 - val_loss: 0.4193 - val_accuracy: 0.8130\n",
            "Epoch 20/25\n",
            "250/250 [==============================] - 66s 262ms/step - loss: 0.4073 - accuracy: 0.8156 - val_loss: 0.4251 - val_accuracy: 0.7945\n",
            "Epoch 21/25\n",
            "250/250 [==============================] - 66s 262ms/step - loss: 0.4142 - accuracy: 0.8094 - val_loss: 0.4787 - val_accuracy: 0.7945\n",
            "Epoch 22/25\n",
            "250/250 [==============================] - 66s 262ms/step - loss: 0.3962 - accuracy: 0.8200 - val_loss: 0.4929 - val_accuracy: 0.7805\n",
            "Epoch 23/25\n",
            "250/250 [==============================] - 66s 265ms/step - loss: 0.3877 - accuracy: 0.8273 - val_loss: 0.4047 - val_accuracy: 0.8235\n",
            "Epoch 24/25\n",
            "250/250 [==============================] - 66s 265ms/step - loss: 0.3873 - accuracy: 0.8228 - val_loss: 0.4153 - val_accuracy: 0.8065\n",
            "Epoch 25/25\n",
            "250/250 [==============================] - 66s 262ms/step - loss: 0.3900 - accuracy: 0.8174 - val_loss: 0.3962 - val_accuracy: 0.8200\n"
          ],
          "name": "stdout"
        },
        {
          "output_type": "execute_result",
          "data": {
            "text/plain": [
              "<tensorflow.python.keras.callbacks.History at 0x7f6ceb3a5470>"
            ]
          },
          "metadata": {
            "tags": []
          },
          "execution_count": 0
        }
      ]
    },
    {
      "cell_type": "code",
      "metadata": {
        "id": "rqBXaWv5XZBP"
      },
      "source": [
        "import numpy as np\n",
        "from keras.preprocessing import image\n",
        "test_image = image.load_img('dataset/single_prediction/cat_or_dog_1.jpg', target_size = (64, 64))\n",
        "test_image = image.img_to_array(test_image)\n",
        "test_image = np.expand_dims(test_image, axis = 0)\n",
        "result = cnn.predict(test_image)\n",
        "training_set.class_indices\n",
        "if result[0][0] == 1:\n",
        "  prediction = 'dog'\n",
        "else:\n",
        "  prediction = 'cat'"
      ],
      "execution_count": null,
      "outputs": []
    }
  ]
}