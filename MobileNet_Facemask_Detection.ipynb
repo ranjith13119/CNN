{
  "nbformat": 4,
  "nbformat_minor": 0,
  "metadata": {
    "colab": {
      "name": "Facemask MobileNet .ipynb",
      "provenance": [],
      "collapsed_sections": [],
      "mount_file_id": "1C2ttAt0FaC378JQPlI7HMiMV5XVCibAG",
      "authorship_tag": "ABX9TyOpnqwYKKrtjqXxQUmvMoZm",
      "include_colab_link": true
    },
    "kernelspec": {
      "name": "python3",
      "display_name": "Python 3"
    },
    "accelerator": "GPU"
  },
  "cells": [
    {
      "cell_type": "markdown",
      "metadata": {
        "id": "view-in-github",
        "colab_type": "text"
      },
      "source": [
        "<a href=\"https://colab.research.google.com/github/ranjith13119/CNN/blob/main/MobileNet_Facemask_Detection.ipynb\" target=\"_parent\"><img src=\"https://colab.research.google.com/assets/colab-badge.svg\" alt=\"Open In Colab\"/></a>"
      ]
    },
    {
      "cell_type": "code",
      "metadata": {
        "id": "5CoCDNUZ3RzP"
      },
      "source": [
        "from tensorflow.keras.preprocessing.image import ImageDataGenerator\n",
        "from tensorflow.keras.applications import MobileNetV2\n",
        "from tensorflow.keras.layers import AveragePooling2D, BatchNormalization, MaxPooling2D\n",
        "from tensorflow.keras.layers import Dropout\n",
        "from tensorflow.keras.layers import Flatten\n",
        "from tensorflow.keras.layers import Dense\n",
        "from tensorflow.keras.layers import Input, Lambda\n",
        "from tensorflow.keras.models import Model, Sequential\n",
        "from tensorflow.keras.optimizers import Adam\n",
        "from tensorflow.keras.applications.mobilenet_v2 import preprocess_input\n",
        "from tensorflow.keras.preprocessing.image import img_to_array\n",
        "from tensorflow.keras.preprocessing.image import load_img\n",
        "from tensorflow.keras.utils import to_categorical\n",
        "from sklearn.preprocessing import LabelBinarizer\n",
        "from sklearn.model_selection import train_test_split\n",
        "from sklearn.metrics import classification_report\n",
        "from imutils import paths\n",
        "import matplotlib.pyplot as plt\n",
        "import numpy as np\n",
        "import argparse\n",
        "import os\n",
        "from tensorflow.keras.preprocessing import image\n",
        "from tensorflow.keras.applications.vgg16 import VGG16\n",
        "from tensorflow.keras.applications.vgg16 import preprocess_input"
      ],
      "execution_count": null,
      "outputs": []
    },
    {
      "cell_type": "code",
      "metadata": {
        "id": "jmiHvj4FXebg"
      },
      "source": [
        "!pip uninstall tensorflow\n",
        "!pip install tensorflow==2.1.0"
      ],
      "execution_count": null,
      "outputs": []
    },
    {
      "cell_type": "code",
      "metadata": {
        "colab": {
          "base_uri": "https://localhost:8080/",
          "height": 35
        },
        "id": "HTZeMqjWXLAY",
        "outputId": "ad01423a-f3a1-4124-d04e-924c0d4ba1bd"
      },
      "source": [
        "import tensorflow as tf \n",
        "tf.__version__"
      ],
      "execution_count": null,
      "outputs": [
        {
          "output_type": "execute_result",
          "data": {
            "application/vnd.google.colaboratory.intrinsic+json": {
              "type": "string"
            },
            "text/plain": [
              "'2.1.0'"
            ]
          },
          "metadata": {
            "tags": []
          },
          "execution_count": 14
        }
      ]
    },
    {
      "cell_type": "code",
      "metadata": {
        "id": "KbFZREl8Cqtl"
      },
      "source": [
        "INIT_LR = 1e-4\n",
        "EPOCHS = 20\n",
        "BS = 32\n",
        "IMAGE_SIZE = [224, 224]"
      ],
      "execution_count": null,
      "outputs": []
    },
    {
      "cell_type": "code",
      "metadata": {
        "colab": {
          "base_uri": "https://localhost:8080/"
        },
        "id": "nuZYxEvlDQjz",
        "outputId": "fb62815f-755e-417b-e072-715801d9807d"
      },
      "source": [
        "TRAINING_DIR = \"/content/drive/MyDrive/CNN/face-mask-dataset/Dataset/train/train\"\n",
        "train_datagen = ImageDataGenerator(rescale=1.0/255,\n",
        "                                  rotation_range=20,\n",
        "                                  zoom_range=0.15,\n",
        "                                  width_shift_range=0.2,\n",
        "                                  height_shift_range=0.2,\n",
        "                                  shear_range=0.15,\n",
        "                                  horizontal_flip=True,\n",
        "                                  fill_mode=\"nearest\")\n",
        "\n",
        "train_generator = train_datagen.flow_from_directory(TRAINING_DIR, \n",
        "                                                    batch_size=10, \n",
        "                                                    target_size=(244,244))\n",
        "VALIDATION_DIR = \"/content/drive/MyDrive/CNN/face-mask-dataset/Dataset/test/test\"\n",
        "validation_datagen = ImageDataGenerator(rescale=1.0/255)\n",
        "\n",
        "validation_generator = validation_datagen.flow_from_directory(VALIDATION_DIR, \n",
        "                                                         batch_size=10, \n",
        "                                                         target_size=(244,244))"
      ],
      "execution_count": null,
      "outputs": [
        {
          "output_type": "stream",
          "text": [
            "Found 1315 images belonging to 2 classes.\n",
            "Found 194 images belonging to 2 classes.\n"
          ],
          "name": "stdout"
        }
      ]
    },
    {
      "cell_type": "code",
      "metadata": {
        "id": "RUfZzvQeEMHU"
      },
      "source": [
        "vgg = VGG16(input_shape=IMAGE_SIZE + [3], weights='imagenet', include_top=False)"
      ],
      "execution_count": null,
      "outputs": []
    },
    {
      "cell_type": "code",
      "metadata": {
        "id": "DNxRyfq8DU06"
      },
      "source": [
        "for layer in vgg.layers:\n",
        "  layer.trainable = False"
      ],
      "execution_count": null,
      "outputs": []
    },
    {
      "cell_type": "code",
      "metadata": {
        "id": "hZUVKGfHF9dA"
      },
      "source": [
        "from glob import glob\n",
        "folders = glob('/content/drive/MyDrive/CNN/face-mask-dataset/Dataset/train/train/*')"
      ],
      "execution_count": null,
      "outputs": []
    },
    {
      "cell_type": "code",
      "metadata": {
        "colab": {
          "base_uri": "https://localhost:8080/"
        },
        "id": "iZw9wcYnGLAw",
        "outputId": "52d534fa-045d-47f6-dff3-2a16453a6649"
      },
      "source": [
        "folders"
      ],
      "execution_count": null,
      "outputs": [
        {
          "output_type": "execute_result",
          "data": {
            "text/plain": [
              "['/content/drive/MyDrive/CNN/face-mask-dataset/Dataset/train/train/without_mask',\n",
              " '/content/drive/MyDrive/CNN/face-mask-dataset/Dataset/train/train/with_mask']"
            ]
          },
          "metadata": {
            "tags": []
          },
          "execution_count": 8
        }
      ]
    },
    {
      "cell_type": "code",
      "metadata": {
        "id": "fydM3cO0GMOB"
      },
      "source": [
        "baseModel = MobileNetV2(weights=\"imagenet\", include_top=False,input_shape=(224, 224, 3))"
      ],
      "execution_count": null,
      "outputs": []
    },
    {
      "cell_type": "code",
      "metadata": {
        "id": "VOysDanKIIng"
      },
      "source": [
        "headModel = baseModel.output\n",
        "headModel = AveragePooling2D(pool_size=(7, 7))(headModel)\n",
        "headModel = Flatten(name=\"flatten\")(headModel)\n",
        "headModel = Dense(128, activation=\"relu\")(headModel)\n",
        "headModel = Dropout(0.5)(headModel)\n",
        "headModel = Dense(len(folders), activation=\"sigmoid\")(headModel)\n",
        "# place the head FC model on top of the base model (this will become\n",
        "# the actual model we will train)\n",
        "model = Model(inputs=baseModel.input, outputs=headModel)\n",
        "# loop over all layers in the base model and freeze them so they will\n",
        "# *not* be updated during the first training process\n",
        "for layer in baseModel.layers:\n",
        "\tlayer.trainable = False"
      ],
      "execution_count": null,
      "outputs": []
    },
    {
      "cell_type": "code",
      "metadata": {
        "id": "7AsjrWz3ImbL"
      },
      "source": [
        "model.summary()"
      ],
      "execution_count": null,
      "outputs": []
    },
    {
      "cell_type": "code",
      "metadata": {
        "id": "UIvms6zwIqwt"
      },
      "source": [
        "opt = Adam(lr=INIT_LR, decay=INIT_LR / EPOCHS)\n",
        "model.compile(loss=\"binary_crossentropy\", optimizer=opt,metrics=[\"accuracy\"])"
      ],
      "execution_count": null,
      "outputs": []
    },
    {
      "cell_type": "code",
      "metadata": {
        "id": "-_p8JMlBJVK8"
      },
      "source": [
        "face_model = model.fit_generator(\n",
        "  train_generator,\n",
        "  validation_data=validation_generator,\n",
        "  epochs=EPOCHS,\n",
        "  steps_per_epoch=32,\n",
        "  validation_steps=len(validation_generator)\n",
        ")"
      ],
      "execution_count": null,
      "outputs": []
    },
    {
      "cell_type": "code",
      "metadata": {
        "id": "BcQvVPaKOrm9"
      },
      "source": [
        "model.save(\"/content/drive/MyDrive/CNN/MaskTest_MobileNetV2_App_v.2.1.0_sigmoid.h5\") "
      ],
      "execution_count": null,
      "outputs": []
    },
    {
      "cell_type": "code",
      "metadata": {
        "colab": {
          "base_uri": "https://localhost:8080/",
          "height": 316
        },
        "id": "aUI3M5NDPGIC",
        "outputId": "22abc244-d7b4-4590-a9f1-2e1dbc99206c"
      },
      "source": [
        "N = EPOCHS\n",
        "plt.style.use(\"ggplot\")\n",
        "plt.figure()\n",
        "plt.plot(np.arange(0, N), face_model.history[\"loss\"], label=\"train_loss\")\n",
        "plt.plot(np.arange(0, N), face_model.history[\"val_loss\"], label=\"val_loss\")\n",
        "plt.plot(np.arange(0, N), face_model.history[\"accuracy\"], label=\"train_accuracy\")\n",
        "plt.plot(np.arange(0, N), face_model.history[\"val_accuracy\"], label=\"val_accuracy\")\n",
        "plt.title(\"Training Loss and Accuracy\")\n",
        "plt.xlabel(\"Epoch #\")\n",
        "plt.ylabel(\"Loss/Accuracy\")\n",
        "plt.legend(loc=\"lower left\")"
      ],
      "execution_count": null,
      "outputs": [
        {
          "output_type": "execute_result",
          "data": {
            "text/plain": [
              "<matplotlib.legend.Legend at 0x7fe3b2c1e588>"
            ]
          },
          "metadata": {
            "tags": []
          },
          "execution_count": 34
        },
        {
          "output_type": "display_data",
          "data": {
            "image/png": "[encoded data removed]",
            "text/plain": [
              "<Figure size 432x288 with 1 Axes>"
            ]
          },
          "metadata": {
            "tags": []
          }
        }
      ]
    },
    {
      "cell_type": "code",
      "metadata": {
        "id": "n5ECjreSSERK",
        "colab": {
          "base_uri": "https://localhost:8080/"
        },
        "outputId": "5906b938-a7b4-4269-a32f-0e6cb9a6032c"
      },
      "source": [
        "!git clone https://github.com/opencv/opencv.git\n",
        "!git clone https://github.com/sr6033/face-detection-with-OpenCV-and-DNN.git"
      ],
      "execution_count": null,
      "outputs": [
        {
          "output_type": "stream",
          "text": [
            "Cloning into 'opencv'...\n",
            "remote: Enumerating objects: 15, done.\u001b[K\n",
            "remote: Counting objects: 100% (15/15), done.\u001b[K\n",
            "remote: Compressing objects: 100% (15/15), done.\u001b[K\n",
            "remote: Total 286419 (delta 1), reused 0 (delta 0), pack-reused 286404\u001b[K\n",
            "Receiving objects: 100% (286419/286419), 476.45 MiB | 22.40 MiB/s, done.\n",
            "Resolving deltas: 100% (200079/200079), done.\n",
            "Checking out files: 100% (6688/6688), done.\n",
            "Cloning into 'face-detection-with-OpenCV-and-DNN'...\n",
            "remote: Enumerating objects: 34, done.\u001b[K\n",
            "remote: Total 34 (delta 0), reused 0 (delta 0), pack-reused 34\u001b[K\n",
            "Unpacking objects: 100% (34/34), done.\n"
          ],
          "name": "stdout"
        }
      ]
    },
    {
      "cell_type": "code",
      "metadata": {
        "colab": {
          "base_uri": "https://localhost:8080/",
          "height": 310
        },
        "id": "xv8ObqKmRVW_",
        "outputId": "8654fe1b-c24b-4c7d-c623-266631bef6bb"
      },
      "source": [
        "# import the necessary libraries\n",
        "import cv2\n",
        "from tensorflow.keras.applications.mobilenet_v2 import preprocess_input\n",
        "from tensorflow.keras.preprocessing.image import img_to_array\n",
        "from tensorflow.keras.models import load_model\n",
        "import argparse\n",
        "from google.colab.patches import cv2_imshow\n",
        "from natsort import natsorted, ns\n",
        " \n",
        "input_file_path = \"/content/drive/MyDrive/CNN/download (1).jpg\"\n",
        "print(\"[INFO] loading face detector model...\")\n",
        "prototxtPath = \"/content/opencv/samples/dnn/face_detector/deploy.prototxt\"\n",
        "weightsPath = \"/content/face-detection-with-OpenCV-and-DNN/res10_300x300_ssd_iter_140000.caffemodel\"\n",
        "net = cv2.dnn.readNet(prototxtPath, weightsPath)\n",
        "# load the face mask detector\n",
        "\n",
        "print(\"[INFO] loading face mask detector model...\")\n",
        "\n",
        "model = load_model(\"/content/drive/MyDrive/CNN/MaskTest_MobileNetV2_App_v.2.1.0_sigmoid.h5\")\n",
        "def process_images(input_file_path):\n",
        "\n",
        "  # load the input imag\n",
        "\n",
        "  # dimensions\n",
        "  image = cv2.imread(input_file_path)\n",
        "  (h, w) = image.shape[:2]\n",
        "  # construct a blob from the image\n",
        "  blob = cv2.dnn.blobFromImage(image, 1.0, (300, 300),\n",
        "    (104.0, 177.0, 123.0))\n",
        " # pass the blob through the network and obtain the face detections\n",
        "  print(\"[INFO] computing face detections...\")\n",
        "\n",
        "  net.setInput(blob)\n",
        "\n",
        "  detections = net.forward()\n",
        "\n",
        "  # loop over the detections\n",
        "\n",
        "  for i in range(0, detections.shape[2]):\n",
        "\n",
        "    # extract the confidence associated with\n",
        "\n",
        "    # the detection\n",
        "\n",
        "    confidence = detections[0, 0, i, 2]\n",
        "\n",
        "    # filter out weak detections by ensuring the confidence is\n",
        "\n",
        "    # greater than the minimum confidence\n",
        "\n",
        "    if confidence > 0.5:\n",
        "\n",
        "      # compute the (x, y)-coordinates of the bounding box for\n",
        "\n",
        "      # the object\n",
        "\n",
        "      box = detections[0, 0, i, 3:7] * np.array([w, h, w, h])\n",
        "\n",
        "      (startX, startY, endX, endY) = box.astype(\"int\")\n",
        "\n",
        "      # ensure the bounding boxes fall within the dimensions of\n",
        "\n",
        "      # the frame\n",
        "\n",
        "      (startX, startY) = (max(0, startX), max(0, startY))\n",
        "\n",
        "      (endX, endY) = (min(w - 1, endX), min(h - 1, endY))\n",
        "\n",
        "      # extract the face ROI, convert it from BGR to RGB channel\n",
        "\n",
        "      # ordering, resize it to 244,244, and preprocess it\n",
        "\n",
        "      face = image[startY:endY, startX:endX]\n",
        "\n",
        "      face = cv2.cvtColor(face, cv2.COLOR_BGR2RGB)\n",
        "\n",
        "      face = cv2.resize(face, (224, 224))\n",
        "\n",
        "      face = img_to_array(face)\n",
        "\n",
        "      face = preprocess_input(face)\n",
        "\n",
        "      face = np.expand_dims(face, axis=0)\n",
        "\n",
        "      # pass the face through the model to determine if the face\n",
        "\n",
        "      # has a mask or not\n",
        "      mask1 = model.predict(face) \n",
        "      print(mask1)\n",
        "      (mask, withoutMask) = model.predict(face)[0]\n",
        "      \n",
        "      # determine the class label and color we'll use to draw\n",
        "\n",
        "      # the bounding box and text\n",
        "\n",
        "      label = \"Mask\" if mask > withoutMask else \"No Mask\"\n",
        "\n",
        "      color = (0, 255, 0) if label == \"Mask\" else (0, 0, 255)\n",
        "\n",
        "   # include the probability in the label\n",
        "\n",
        "      label = \"{}: {:.2f}%\".format(label, max(mask, withoutMask) * 100)\n",
        "\n",
        "      # display the label and bounding box rectangle on the output\n",
        "\n",
        "      # frame\n",
        "\n",
        "      #cv2.putText(image, label, (startX, startY - 10),\n",
        "      cv2.putText(image, label, (startX, startY - 10),\n",
        "\n",
        "        cv2.FONT_HERSHEY_SIMPLEX, 0.45, color, 2)\n",
        "\n",
        "      cv2.rectangle(image, (startX, startY), (endX, endY), color, 2)\n",
        "\n",
        "  # show the output image\n",
        "\n",
        "  save_path = input_file_path.split(\".\",1)\n",
        "\n",
        "  cv2_imshow(image)\n",
        "\n",
        "#start the process\n",
        "\n",
        "process_images(input_file_path)"
      ],
      "execution_count": null,
      "outputs": [
        {
          "output_type": "stream",
          "text": [
            "[INFO] loading face detector model...\n",
            "[INFO] loading face mask detector model...\n",
            "[INFO] computing face detections...\n",
            "[[0.9464384  0.02457386]]\n"
          ],
          "name": "stdout"
        },
        {
          "output_type": "display_data",
          "data": {
            "image/png": "[encoded data removed]",
            "text/plain": [
              "<PIL.Image.Image image mode=RGB size=225x225 at 0x7F43B033F400>"
            ]
          },
          "metadata": {
            "tags": []
          }
        }
      ]
    }
  ]
}