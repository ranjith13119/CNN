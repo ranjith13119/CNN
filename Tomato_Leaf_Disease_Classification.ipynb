{
  "nbformat": 4,
  "nbformat_minor": 0,
  "metadata": {
    "accelerator": "TPU",
    "colab": {
      "name": "Tomato Leaf Disease Classification.ipynb",
      "provenance": [],
      "collapsed_sections": [],
      "mount_file_id": "1FkpybX1pto8dr8aCC20spj2JBFrUGvU6",
      "authorship_tag": "ABX9TyNncaPESF+vdvwh+qNCTSRO",
      "include_colab_link": true
    },
    "kernelspec": {
      "display_name": "Python 3",
      "name": "python3"
    },
    "language_info": {
      "name": "python"
    }
  },
  "cells": [
    {
      "cell_type": "markdown",
      "metadata": {
        "id": "view-in-github",
        "colab_type": "text"
      },
      "source": [
        "<a href=\"https://colab.research.google.com/github/ranjith13119/CNN/blob/main/Tomato_Leaf_Disease_Classification.ipynb\" target=\"_parent\"><img src=\"https://colab.research.google.com/assets/colab-badge.svg\" alt=\"Open In Colab\"/></a>"
      ]
    },
    {
      "cell_type": "code",
      "metadata": {
        "id": "PbYVFxk_FpW-"
      },
      "source": [
        "# import os\n",
        "# os.environ['KAGGLE_CONFIG_DIR'] = \"/content/drive/MyDrive/Kaggle\"\n",
        "# %cd /content/drive/MyDrive/CNN/Tomato-disease-Classficaion1\n",
        "# !kaggle datasets download -d noulam/tomato"
      ],
      "execution_count": null,
      "outputs": []
    },
    {
      "cell_type": "code",
      "metadata": {
        "id": "eOuxhbyAF7us"
      },
      "source": [
        "# !unzip \\*.zip  && rm *.zipy"
      ],
      "execution_count": null,
      "outputs": []
    },
    {
      "cell_type": "code",
      "metadata": {
        "id": "qHfUFf7nCW_t"
      },
      "source": [
        "# from tensorflow.compat.v1 import ConfigProto\n",
        "# from tensorflow.compat.v1 import InteractiveSession\n",
        "\n",
        "# config = ConfigProto()\n",
        "# config.gpu_options.per_process_gpu_memory_fraction = 0.5\n",
        "# config.gpu_options.allow_growth = True\n",
        "# session = InteractiveSession(config=config)"
      ],
      "execution_count": null,
      "outputs": []
    },
    {
      "cell_type": "code",
      "metadata": {
        "id": "JdlafFOLCcer"
      },
      "source": [
        "from tensorflow.keras.layers import Input, Lambda, Dense, Flatten\n",
        "from tensorflow.keras.models import Model\n",
        "from tensorflow.keras.applications.inception_v3 import InceptionV3\n",
        "from tensorflow.keras.applications.inception_v3 import preprocess_input\n",
        "from tensorflow.keras.applications.resnet50 import ResNet50\n",
        "from tensorflow.keras.applications.resnet50 import preprocess_input\n",
        "from tensorflow.keras.preprocessing import image\n",
        "from tensorflow.keras.preprocessing.image import ImageDataGenerator,load_img\n",
        "from tensorflow.keras.models import Sequential\n",
        "import numpy as np\n",
        "from glob import glob"
      ],
      "execution_count": null,
      "outputs": []
    },
    {
      "cell_type": "code",
      "metadata": {
        "id": "hxDQYMwCCenj"
      },
      "source": [
        "IMAGE_SIZE = [224, 224]\n",
        "\n",
        "train_path = \"/content/drive/MyDrive/CNN/Tomato-disease-Classficaion1/New Plant Diseases Dataset(Augmented)/train\"\n",
        "val_path = \"/content/drive/MyDrive/CNN/Tomato-disease-Classficaion1/New Plant Diseases Dataset(Augmented)/valid\"\n",
        "folders = glob(train_path+\"/*\")\n",
        "working_path = \"/content/drive/MyDrive/CNN/Tomato-disease-Classficaion1/\"\n",
        "strModelFileName = \"models/InceptionV3.h5\""
      ],
      "execution_count": null,
      "outputs": []
    },
    {
      "cell_type": "code",
      "metadata": {
        "id": "jUFDnoMjCseL"
      },
      "source": [
        "def model_inceptionV3():\n",
        "  inception = InceptionV3(input_shape=IMAGE_SIZE + [3], weights='imagenet', include_top=False)\n",
        "  for layers in inception.layers:\n",
        "    layers.trainable = False\n",
        "  x = Flatten()(inception.output)\n",
        "  prediction = Dense(len(folders), activation='softmax')(x)\n",
        "  model = Model(inputs=inception.input, outputs=prediction)\n",
        "  return(model)"
      ],
      "execution_count": null,
      "outputs": []
    },
    {
      "cell_type": "code",
      "metadata": {
        "id": "9q1h_Ya2IXBf"
      },
      "source": [
        "def model_RestNet50():\n",
        "  resnet = ResNet50(input_shape=IMAGE_SIZE + [3], weights='imagenet', include_top=False)\n",
        "  for layers in resnet.layers:\n",
        "    layers.trainable = False\n",
        "  x = Flatten()(resnet.output)\n",
        "  prediction = Dense(len(folders), activation='softmax')(x)\n",
        "  model = Model(inputs=resnet.input, outputs=prediction)\n",
        "  return(model)"
      ],
      "execution_count": null,
      "outputs": []
    },
    {
      "cell_type": "code",
      "metadata": {
        "id": "6tmoA_jlLAY0"
      },
      "source": [
        "import os\n",
        "# Make sure that previous \"best network\" is deleted.\n",
        "def deleteSavedNet(best_weights_filepath):\n",
        "\tif(os.path.isfile(best_weights_filepath)):\n",
        "\t\tos.remove(best_weights_filepath)\n",
        "\t\tprint(\"deleteSavedNet():File removed\")\n",
        "\telse:\n",
        "\t\tprint(\"deleteSavedNet():No file to remove\") "
      ],
      "execution_count": null,
      "outputs": []
    },
    {
      "cell_type": "code",
      "metadata": {
        "colab": {
          "base_uri": "https://localhost:8080/"
        },
        "id": "TqhScuWgEMmG",
        "outputId": "8a01f089-d8db-4598-cbd9-65aeb0ddd6be"
      },
      "source": [
        "#inception_model = model_inceptionV3()\n",
        "\n",
        "\n",
        "\n",
        "deleteSavedNet(working_path + strModelFileName)\n",
        "if not os.path.exists(working_path + \"models\"):\n",
        "  os.makedirs(working_path + \"models\")\n",
        "    \n",
        "if not os.path.exists(working_path + strModelFileName):\n",
        "  inception_model = model_inceptionV3()\n",
        "  # model = model_RestNet50()\n",
        "else:\n",
        "  model = load_model(working_path + strModelFileName)"
      ],
      "execution_count": null,
      "outputs": [
        {
          "output_type": "stream",
          "text": [
            "deleteSavedNet():No file to remove\n",
            "Downloading data from https://storage.googleapis.com/tensorflow/keras-applications/inception_v3/inception_v3_weights_tf_dim_ordering_tf_kernels_notop.h5\n",
            "87916544/87910968 [==============================] - 1s 0us/step\n"
          ],
          "name": "stdout"
        }
      ]
    },
    {
      "cell_type": "code",
      "metadata": {
        "id": "ezAsFQ7uEQLL"
      },
      "source": [
        "inception_model.summary()"
      ],
      "execution_count": null,
      "outputs": []
    },
    {
      "cell_type": "code",
      "metadata": {
        "id": "Nng4cO5xEWUM"
      },
      "source": [
        "inception_model.compile( loss='categorical_crossentropy', optimizer='adam', metrics=['accuracy'])"
      ],
      "execution_count": null,
      "outputs": []
    },
    {
      "cell_type": "code",
      "metadata": {
        "id": "SIGje7LeEqOj"
      },
      "source": [
        "train_datagen = ImageDataGenerator(\n",
        "                    rotation_range=40, \n",
        "                    width_shift_range=0.2,\n",
        "                    height_shift_range=0.2,\n",
        "                    rescale=1./255,\n",
        "                    shear_range=0.2,\n",
        "                    zoom_range=0.2,\n",
        "                    horizontal_flip=True,\n",
        "                    fill_mode='nearest'\n",
        "                )"
      ],
      "execution_count": null,
      "outputs": []
    },
    {
      "cell_type": "code",
      "metadata": {
        "id": "47fGFMbIEyBD"
      },
      "source": [
        "validation_datagen = ImageDataGenerator(\n",
        "                        rotation_range=40,\n",
        "                        width_shift_range=0.2,\n",
        "                        height_shift_range=0.2,\n",
        "                        rescale=1./255,\n",
        "                        shear_range=0.2,\n",
        "                        zoom_range=0.2,\n",
        "                        horizontal_flip=True,\n",
        "                        fill_mode='nearest'\n",
        "                      )"
      ],
      "execution_count": null,
      "outputs": []
    },
    {
      "cell_type": "code",
      "metadata": {
        "colab": {
          "base_uri": "https://localhost:8080/"
        },
        "id": "VvGsboG1Edf7",
        "outputId": "9aec9172-0227-4820-d75e-3f8394c48a50"
      },
      "source": [
        "train_generator= train_datagen.flow_from_directory(train_path, target_size = (224, 224),batch_size = 32, class_mode = 'categorical')"
      ],
      "execution_count": null,
      "outputs": [
        {
          "output_type": "stream",
          "text": [
            "Found 18345 images belonging to 10 classes.\n"
          ],
          "name": "stdout"
        }
      ]
    },
    {
      "cell_type": "code",
      "metadata": {
        "colab": {
          "base_uri": "https://localhost:8080/"
        },
        "id": "YY71xGn5FVH_",
        "outputId": "6b4bd9c1-c79f-48ba-8381-d1ecf2ff40b3"
      },
      "source": [
        "val_generator= validation_datagen.flow_from_directory(val_path, target_size = (224, 224),batch_size = 32, class_mode = 'categorical')"
      ],
      "execution_count": null,
      "outputs": [
        {
          "output_type": "stream",
          "text": [
            "Found 4585 images belonging to 10 classes.\n"
          ],
          "name": "stdout"
        }
      ]
    },
    {
      "cell_type": "code",
      "metadata": {
        "id": "DR-ZrkYRGblG"
      },
      "source": [
        "STEP_SIZE_TRAIN=train_generator.n//train_generator.batch_size\n",
        "STEP_SIZE_VALID=val_generator.n//val_generator.batch_size"
      ],
      "execution_count": null,
      "outputs": []
    },
    {
      "cell_type": "code",
      "metadata": {
        "id": "T_nRj1lWGlgR"
      },
      "source": [
        "from tensorflow.keras.callbacks import Callback, EarlyStopping, ReduceLROnPlateau, ModelCheckpoint, TerminateOnNaN, LambdaCallback\n",
        "checkpoint = ModelCheckpoint(working_path + strModelFileName, monitor='val_acc', verbose=1, save_best_only=True,  mode='auto', save_weights_only=False)\n",
        "reduce_lr = ReduceLROnPlateau(monitor='val_loss', factor=0.1, patience=20, verbose=0, mode='auto', min_delta=0.0001, cooldown=0, min_lr=0.0001)\n",
        "call_savemodel_BA = LambdaCallback(on_epoch_end= lambda epochs, logs: model.save_weights(working_path + strModelFileName) if logs.get('acc')>0.99 else None)\n",
        "call_terminate_NAN = TerminateOnNaN()\n",
        "earlystopping_callback = EarlyStopping(monitor='val_acc',verbose=1, min_delta=0.5, patience=3, baseline=None)\n",
        "callbacks_list = [ checkpoint, reduce_lr, call_savemodel_BA, call_terminate_NAN, earlystopping_callback ]"
      ],
      "execution_count": null,
      "outputs": []
    },
    {
      "cell_type": "code",
      "metadata": {
        "colab": {
          "background_save": true
        },
        "id": "kyFy9Cv5GRex"
      },
      "source": [
        "model_final = inception_model.fit_generator(\n",
        "  train_generator,\n",
        "  validation_data=val_generator,\n",
        "  epochs=10,\n",
        "  steps_per_epoch = STEP_SIZE_TRAIN,\n",
        "  validation_steps = STEP_SIZE_VALID,\n",
        "  callbacks=callbacks_list)"
      ],
      "execution_count": null,
      "outputs": []
    },
    {
      "cell_type": "code",
      "metadata": {
        "colab": {
          "background_save": true
        },
        "id": "2uV6UpgaHaWv"
      },
      "source": [
        "import matplotlib.pyplot as plt"
      ],
      "execution_count": null,
      "outputs": []
    },
    {
      "cell_type": "code",
      "metadata": {
        "colab": {
          "background_save": true
        },
        "id": "1c9z_mcxHbi_"
      },
      "source": [
        "plt.plot(model_final.history['loss'], label='train loss')\n",
        "plt.plot(model_final.history['val_loss'], label='val loss')\n",
        "plt.legend()\n",
        "plt.show()\n",
        "plt.savefig('LossVal_loss')\n",
        "\n",
        "# plot the accuracy\n",
        "plt.plot(model_final.history['accuracy'], label='train acc')\n",
        "plt.plot(model_final.history['val_accuracy'], label='val acc')\n",
        "plt.legend()\n",
        "plt.show()\n",
        "plt.savefig('AccVal_acc')"
      ],
      "execution_count": null,
      "outputs": []
    },
    {
      "cell_type": "code",
      "metadata": {
        "colab": {
          "background_save": true
        },
        "id": "pgh3_VyWML38"
      },
      "source": [
        "def model_predict(img_path, model):\n",
        "    print(img_path)\n",
        "    img = image.load_img(img_path, target_size=(224, 224))\n",
        "\n",
        "    # Preprocessing the image\n",
        "    x = image.img_to_array(img)\n",
        "    ## Scaling\n",
        "    x=x/255\n",
        "    x = np.expand_dims(x, axis=0)\n",
        "\n",
        "    preds = model.predict(x)\n",
        "    preds=np.argmax(preds, axis=1)\n",
        "    if preds==0:\n",
        "        preds=\"The Disease is Tomato___Bacterial_spot\"\n",
        "    elif preds==1:\n",
        "        preds=\"The Disease is Tomato___Early_blight\"\n",
        "    elif preds==2:\n",
        "        preds=\"The Disease is Tomato___Late_blight\"\n",
        "    elif preds==3:\n",
        "        preds=\"Te Disease is Tomato___Leaf_Mold\"\n",
        "    elif preds==4:\n",
        "        preds=\"The Disease is Tomato___Septoria_leaf_spot\"\n",
        "    elif preds==5:\n",
        "        preds=\"The Disease is Tomato___Spider_mites Two-spotted_spider_mite\"\n",
        "    elif preds==6:\n",
        "        preds=\"The Disease is Tomato___Target_Spot\"\n",
        "    elif preds==7:\n",
        "        preds=\"The Disease is Tomato___Tomato_Yellow_Leaf_Curl_Virus\"\n",
        "    elif preds==8:\n",
        "        preds=\"The Disease is Tomato___Tomato_mosaic_virus\"\n",
        "    elif preds==9:\n",
        "        preds=\"The Disease is Tomato___healthy\"\n",
        "    \n",
        "    return preds"
      ],
      "execution_count": null,
      "outputs": []
    },
    {
      "cell_type": "code",
      "metadata": {
        "colab": {
          "background_save": true
        },
        "id": "zfk5ptuCM7vx"
      },
      "source": [
        "y_pred = model_final.predict(test_set)"
      ],
      "execution_count": null,
      "outputs": []
    },
    {
      "cell_type": "code",
      "metadata": {
        "colab": {
          "background_save": true
        },
        "id": "qTmbkOOXNBZg"
      },
      "source": [
        "import numpy as np\n",
        "y_pred = np.argmax(y_pred, axis=1)"
      ],
      "execution_count": null,
      "outputs": []
    },
    {
      "cell_type": "code",
      "metadata": {
        "colab": {
          "background_save": true
        },
        "id": "e55wTZRZNvx1"
      },
      "source": [
        "path = \"/content/drive/MyDrive/CNN/Tomato-disease-Classficaion1/New Plant Diseases Dataset(Augmented)/valid/Tomato___Target_Spot/01e0b8b1-e713-4c6d-973b-f7636280c58a___Com.G_TgS_FL 9816_newPixel25.JPG\"\n",
        "output = model_predict(path, model_final)\n",
        "print(output)"
      ],
      "execution_count": null,
      "outputs": []
    }
  ]
}