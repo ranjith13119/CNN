{
  "nbformat": 4,
  "nbformat_minor": 0,
  "metadata": {
    "accelerator": "TPU",
    "colab": {
      "name": "Dog Breed_from Kaggle.ipynb",
      "provenance": [],
      "collapsed_sections": [],
      "mount_file_id": "1x51UKZIOWKs7phR9WHWcueMaZK5GkxQL",
      "authorship_tag": "ABX9TyOMAJ9KHKo3Xr9+nSwLct2A",
      "include_colab_link": true
    },
    "kernelspec": {
      "display_name": "Python 3",
      "name": "python3"
    }
  },
  "cells": [
    {
      "cell_type": "markdown",
      "metadata": {
        "id": "view-in-github",
        "colab_type": "text"
      },
      "source": [
        "<a href=\"https://colab.research.google.com/github/ranjith13119/CNN/blob/main/TransferLearningTechnique_DogBreed_Classification.ipynb\" target=\"_parent\"><img src=\"https://colab.research.google.com/assets/colab-badge.svg\" alt=\"Open In Colab\"/></a>"
      ]
    },
    {
      "cell_type": "code",
      "metadata": {
        "id": "yEh2Z02eNFTa"
      },
      "source": [
        "!pip install --upgrade --force-reinstall --no-deps kaggle"
      ],
      "execution_count": null,
      "outputs": []
    },
    {
      "cell_type": "code",
      "metadata": {
        "id": "QfClkLw2yjcM"
      },
      "source": [
        "from google.colab import files\n",
        "files.upload()"
      ],
      "execution_count": null,
      "outputs": []
    },
    {
      "cell_type": "code",
      "metadata": {
        "id": "FjUN1MGRkali"
      },
      "source": [
        "#https://habr.com/en/post/447732/"
      ],
      "execution_count": null,
      "outputs": []
    },
    {
      "cell_type": "code",
      "metadata": {
        "id": "GDR5BD2mWFG9"
      },
      "source": [
        "!mkdir -p ~/.kaggle\n"
      ],
      "execution_count": null,
      "outputs": []
    },
    {
      "cell_type": "code",
      "metadata": {
        "id": "LBYMZl_rlGzZ"
      },
      "source": [
        "!cp /content/kaggle.json ~/.kaggle/"
      ],
      "execution_count": null,
      "outputs": []
    },
    {
      "cell_type": "code",
      "metadata": {
        "id": "g99JjQEKXY88"
      },
      "source": [
        "!chmod 600 ~/.kaggle/kaggle.json"
      ],
      "execution_count": null,
      "outputs": []
    },
    {
      "cell_type": "code",
      "metadata": {
        "id": "nJWQw2HyyBIc"
      },
      "source": [
        "!kaggle competitions download -c dog-breed-identification -p /content/dataset/test "
      ],
      "execution_count": null,
      "outputs": []
    },
    {
      "cell_type": "code",
      "metadata": {
        "id": "atce9HwBkb1J"
      },
      "source": [
        "!unzip '/content/dataset/test/dog-breed-identification.zip' -d '/content/drive/MyDrive/CNN/Dogs/Dataset'"
      ],
      "execution_count": null,
      "outputs": []
    },
    {
      "cell_type": "code",
      "metadata": {
        "id": "4fKqzLICnXmO"
      },
      "source": [
        "!pip install tensorflow==2.1.0"
      ],
      "execution_count": null,
      "outputs": []
    },
    {
      "cell_type": "code",
      "metadata": {
        "id": "kQ8YqyPXn_2Z"
      },
      "source": [
        "import tensorflow as tf "
      ],
      "execution_count": null,
      "outputs": []
    },
    {
      "cell_type": "code",
      "metadata": {
        "colab": {
          "base_uri": "https://localhost:8080/",
          "height": 35
        },
        "id": "SFLXmaf_OtrU",
        "outputId": "4d056b75-9ec7-48fc-ba67-940c0cf982d2"
      },
      "source": [
        "tf.__version__"
      ],
      "execution_count": null,
      "outputs": [
        {
          "output_type": "execute_result",
          "data": {
            "application/vnd.google.colaboratory.intrinsic+json": {
              "type": "string"
            },
            "text/plain": [
              "'2.1.0'"
            ]
          },
          "metadata": {
            "tags": []
          },
          "execution_count": 4
        }
      ]
    },
    {
      "cell_type": "code",
      "metadata": {
        "id": "RXlTjdKf5tiL"
      },
      "source": [
        "import pandas as pd \n",
        "import numpy as np\n",
        "import matplotlib.pyplot as plt\n",
        "df = pd.read_csv(\"/content/drive/MyDrive/CNN/Dogs/Dataset/labels.csv\")"
      ],
      "execution_count": null,
      "outputs": []
    },
    {
      "cell_type": "code",
      "metadata": {
        "colab": {
          "base_uri": "https://localhost:8080/",
          "height": 204
        },
        "id": "NEQDrRyMbxbW",
        "outputId": "75b49202-15cb-46c3-c04d-0e84a3ab101d"
      },
      "source": [
        "df.head()"
      ],
      "execution_count": null,
      "outputs": [
        {
          "output_type": "execute_result",
          "data": {
            "text/html": [
              "<div>\n",
              "<style scoped>\n",
              "    .dataframe tbody tr th:only-of-type {\n",
              "        vertical-align: middle;\n",
              "    }\n",
              "\n",
              "    .dataframe tbody tr th {\n",
              "        vertical-align: top;\n",
              "    }\n",
              "\n",
              "    .dataframe thead th {\n",
              "        text-align: right;\n",
              "    }\n",
              "</style>\n",
              "<table border=\"1\" class=\"dataframe\">\n",
              "  <thead>\n",
              "    <tr style=\"text-align: right;\">\n",
              "      <th></th>\n",
              "      <th>id</th>\n",
              "      <th>breed</th>\n",
              "    </tr>\n",
              "  </thead>\n",
              "  <tbody>\n",
              "    <tr>\n",
              "      <th>0</th>\n",
              "      <td>000bec180eb18c7604dcecc8fe0dba07</td>\n",
              "      <td>boston_bull</td>\n",
              "    </tr>\n",
              "    <tr>\n",
              "      <th>1</th>\n",
              "      <td>001513dfcb2ffafc82cccf4d8bbaba97</td>\n",
              "      <td>dingo</td>\n",
              "    </tr>\n",
              "    <tr>\n",
              "      <th>2</th>\n",
              "      <td>001cdf01b096e06d78e9e5112d419397</td>\n",
              "      <td>pekinese</td>\n",
              "    </tr>\n",
              "    <tr>\n",
              "      <th>3</th>\n",
              "      <td>00214f311d5d2247d5dfe4fe24b2303d</td>\n",
              "      <td>bluetick</td>\n",
              "    </tr>\n",
              "    <tr>\n",
              "      <th>4</th>\n",
              "      <td>0021f9ceb3235effd7fcde7f7538ed62</td>\n",
              "      <td>golden_retriever</td>\n",
              "    </tr>\n",
              "  </tbody>\n",
              "</table>\n",
              "</div>"
            ],
            "text/plain": [
              "                                 id             breed\n",
              "0  000bec180eb18c7604dcecc8fe0dba07       boston_bull\n",
              "1  001513dfcb2ffafc82cccf4d8bbaba97             dingo\n",
              "2  001cdf01b096e06d78e9e5112d419397          pekinese\n",
              "3  00214f311d5d2247d5dfe4fe24b2303d          bluetick\n",
              "4  0021f9ceb3235effd7fcde7f7538ed62  golden_retriever"
            ]
          },
          "metadata": {
            "tags": []
          },
          "execution_count": 2
        }
      ]
    },
    {
      "cell_type": "code",
      "metadata": {
        "id": "qFO__J4kR-xS",
        "colab": {
          "base_uri": "https://localhost:8080/"
        },
        "outputId": "71369adc-381f-47cf-93b6-a3a0cf0f2cef"
      },
      "source": [
        "working_path = \"/content/drive/MyDrive/CNN/Dogs/\"\n",
        "!ls \"/content/drive/MyDrive/CNN/Dogs\""
      ],
      "execution_count": null,
      "outputs": [
        {
          "output_type": "stream",
          "text": [
            "Dataset  kaggle.json\n"
          ],
          "name": "stdout"
        }
      ]
    },
    {
      "cell_type": "code",
      "metadata": {
        "id": "yzz04VbBApdR"
      },
      "source": [
        "df.keys"
      ],
      "execution_count": null,
      "outputs": []
    },
    {
      "cell_type": "code",
      "metadata": {
        "id": "KPAOxGZCAq34"
      },
      "source": [
        "df[\"filename\"] = df.apply(lambda x : (str(x['id']) + '.jpg'), axis = 1)"
      ],
      "execution_count": null,
      "outputs": []
    },
    {
      "cell_type": "code",
      "metadata": {
        "id": "lgj0_gbSBNqJ"
      },
      "source": [
        "df.head() "
      ],
      "execution_count": null,
      "outputs": []
    },
    {
      "cell_type": "code",
      "metadata": {
        "id": "Q51c0-mrBPly"
      },
      "source": [
        "num_classes = 50\n",
        "selected_breed_list = list(df.groupby('breed').count().sort_values(by='id', ascending=False).head(num_classes).index)"
      ],
      "execution_count": null,
      "outputs": []
    },
    {
      "cell_type": "code",
      "metadata": {
        "id": "H1rweDDWBi8P"
      },
      "source": [
        "selected_breed_list  ## Dog Breed details "
      ],
      "execution_count": null,
      "outputs": []
    },
    {
      "cell_type": "code",
      "metadata": {
        "id": "rCF_naksCKcZ",
        "colab": {
          "base_uri": "https://localhost:8080/"
        },
        "outputId": "fb64af01-e478-4de6-a99e-87487cd613d7"
      },
      "source": [
        "#Showing Unique Breed Selected:\n",
        "breeds = pd.Series(df['breed'])\n",
        "print(\"total number of breeds to classify\",len(breeds.unique()))"
      ],
      "execution_count": null,
      "outputs": [
        {
          "output_type": "stream",
          "text": [
            "total number of breeds to classify 120\n"
          ],
          "name": "stdout"
        }
      ]
    },
    {
      "cell_type": "code",
      "metadata": {
        "id": "zNNGgbDCCPPg"
      },
      "source": [
        "df[\"breed\"].value_counts().plot.bar(figsize=(20, 10))"
      ],
      "execution_count": null,
      "outputs": []
    },
    {
      "cell_type": "code",
      "metadata": {
        "id": "oMhNy8L0DnbM"
      },
      "source": [
        "import tensorflow as tf\n",
        "import tensorflow_hub as hub\n",
        "\n",
        "# Image Processing and Visualization\n",
        "from IPython.display import display, Image\n",
        "from matplotlib.pyplot import imread\n",
        "\n",
        "# Data Spliting Module\n",
        "from sklearn.model_selection import train_test_split"
      ],
      "execution_count": null,
      "outputs": []
    },
    {
      "cell_type": "code",
      "metadata": {
        "id": "h6JX4NlkDoYL",
        "colab": {
          "base_uri": "https://localhost:8080/",
          "height": 392
        },
        "outputId": "af1a5f1c-6622-4097-9b0b-00c9aa0d410f"
      },
      "source": [
        "Image('/content/drive/MyDrive/CNN/Dogs/Dataset/train/000bec180eb18c7604dcecc8fe0dba07.jpg') "
      ],
      "execution_count": null,
      "outputs": [
        {
          "output_type": "execute_result",
          "data": {
            "image/jpeg": "[encoded data removed]",
            "text/plain": [
              "<IPython.core.display.Image object>"
            ]
          },
          "metadata": {
            "tags": []
          },
          "execution_count": 31
        }
      ]
    },
    {
      "cell_type": "code",
      "metadata": {
        "colab": {
          "base_uri": "https://localhost:8080/"
        },
        "id": "xWqjxcT5E31u",
        "outputId": "d7e82c0c-690c-4368-97e9-4b6ce82c1775"
      },
      "source": [
        "len(np.unique(df[\"breed\"].to_numpy())) "
      ],
      "execution_count": null,
      "outputs": [
        {
          "output_type": "execute_result",
          "data": {
            "text/plain": [
              "120"
            ]
          },
          "metadata": {
            "tags": []
          },
          "execution_count": 27
        }
      ]
    },
    {
      "cell_type": "code",
      "metadata": {
        "id": "V8RTR9Y_F9OJ"
      },
      "source": [
        "from sklearn.model_selection import train_test_split\n",
        "df_train, df_validation = train_test_split(df, test_size=0.2, shuffle=True)"
      ],
      "execution_count": null,
      "outputs": []
    },
    {
      "cell_type": "code",
      "metadata": {
        "colab": {
          "base_uri": "https://localhost:8080/"
        },
        "id": "3hrBNRAwIJS9",
        "outputId": "adf8cfe8-45b0-47e0-f9a8-a65d5afad0a6"
      },
      "source": [
        "df_train.shape"
      ],
      "execution_count": null,
      "outputs": [
        {
          "output_type": "execute_result",
          "data": {
            "text/plain": [
              "(8177, 3)"
            ]
          },
          "metadata": {
            "tags": []
          },
          "execution_count": 33
        }
      ]
    },
    {
      "cell_type": "code",
      "metadata": {
        "colab": {
          "base_uri": "https://localhost:8080/",
          "height": 204
        },
        "id": "18qUhi_AD7X4",
        "outputId": "4b513e3a-c03a-4997-b4bc-4ecef6f8bda5"
      },
      "source": [
        "df_train.head()"
      ],
      "execution_count": null,
      "outputs": [
        {
          "output_type": "execute_result",
          "data": {
            "text/html": [
              "<div>\n",
              "<style scoped>\n",
              "    .dataframe tbody tr th:only-of-type {\n",
              "        vertical-align: middle;\n",
              "    }\n",
              "\n",
              "    .dataframe tbody tr th {\n",
              "        vertical-align: top;\n",
              "    }\n",
              "\n",
              "    .dataframe thead th {\n",
              "        text-align: right;\n",
              "    }\n",
              "</style>\n",
              "<table border=\"1\" class=\"dataframe\">\n",
              "  <thead>\n",
              "    <tr style=\"text-align: right;\">\n",
              "      <th></th>\n",
              "      <th>id</th>\n",
              "      <th>breed</th>\n",
              "      <th>filename</th>\n",
              "    </tr>\n",
              "  </thead>\n",
              "  <tbody>\n",
              "    <tr>\n",
              "      <th>249</th>\n",
              "      <td>05c128c8e3ef0c2739f181f9c5677f56</td>\n",
              "      <td>australian_terrier</td>\n",
              "      <td>05c128c8e3ef0c2739f181f9c5677f56.jpg</td>\n",
              "    </tr>\n",
              "    <tr>\n",
              "      <th>5594</th>\n",
              "      <td>8d59450a985ebb3790c70d672e616c68</td>\n",
              "      <td>yorkshire_terrier</td>\n",
              "      <td>8d59450a985ebb3790c70d672e616c68.jpg</td>\n",
              "    </tr>\n",
              "    <tr>\n",
              "      <th>1530</th>\n",
              "      <td>25cadbca01601bb69736e4835d60b048</td>\n",
              "      <td>saluki</td>\n",
              "      <td>25cadbca01601bb69736e4835d60b048.jpg</td>\n",
              "    </tr>\n",
              "    <tr>\n",
              "      <th>946</th>\n",
              "      <td>17193d29b9833d783133f4b13f12f513</td>\n",
              "      <td>english_foxhound</td>\n",
              "      <td>17193d29b9833d783133f4b13f12f513.jpg</td>\n",
              "    </tr>\n",
              "    <tr>\n",
              "      <th>8202</th>\n",
              "      <td>cd0587a34594afd8b79387cf137c66e7</td>\n",
              "      <td>german_short-haired_pointer</td>\n",
              "      <td>cd0587a34594afd8b79387cf137c66e7.jpg</td>\n",
              "    </tr>\n",
              "  </tbody>\n",
              "</table>\n",
              "</div>"
            ],
            "text/plain": [
              "                                    id  ...                              filename\n",
              "249   05c128c8e3ef0c2739f181f9c5677f56  ...  05c128c8e3ef0c2739f181f9c5677f56.jpg\n",
              "5594  8d59450a985ebb3790c70d672e616c68  ...  8d59450a985ebb3790c70d672e616c68.jpg\n",
              "1530  25cadbca01601bb69736e4835d60b048  ...  25cadbca01601bb69736e4835d60b048.jpg\n",
              "946   17193d29b9833d783133f4b13f12f513  ...  17193d29b9833d783133f4b13f12f513.jpg\n",
              "8202  cd0587a34594afd8b79387cf137c66e7  ...  cd0587a34594afd8b79387cf137c66e7.jpg\n",
              "\n",
              "[5 rows x 3 columns]"
            ]
          },
          "metadata": {
            "tags": []
          },
          "execution_count": 36
        }
      ]
    },
    {
      "cell_type": "code",
      "metadata": {
        "id": "wig5vKb6IK45",
        "colab": {
          "base_uri": "https://localhost:8080/"
        },
        "outputId": "88aac2ae-d920-491b-9eed-205a4924e85b"
      },
      "source": [
        "df_validation.shape"
      ],
      "execution_count": null,
      "outputs": [
        {
          "output_type": "execute_result",
          "data": {
            "text/plain": [
              "(2045, 3)"
            ]
          },
          "metadata": {
            "tags": []
          },
          "execution_count": 34
        }
      ]
    },
    {
      "cell_type": "code",
      "metadata": {
        "id": "PesFyoKlFOyU"
      },
      "source": [
        "from tensorflow.keras.preprocessing.image import ImageDataGenerator\n",
        "train_datagen = ImageDataGenerator(\n",
        "                    rotation_range=40,\n",
        "                    width_shift_range=0.2,\n",
        "                    height_shift_range=0.2,\n",
        "                    rescale=1./255,\n",
        "                    shear_range=0.2,\n",
        "                    zoom_range=0.2,\n",
        "                    horizontal_flip=True,\n",
        "                    fill_mode='nearest'\n",
        "                )\n",
        "validation_datagen = ImageDataGenerator(\n",
        "                        rotation_range=40,\n",
        "                        width_shift_range=0.2,\n",
        "                        height_shift_range=0.2,\n",
        "                        rescale=1./255,\n",
        "                        shear_range=0.2,\n",
        "                        zoom_range=0.2,\n",
        "                        horizontal_flip=True,\n",
        "                        fill_mode='nearest'\n",
        "                      )"
      ],
      "execution_count": null,
      "outputs": []
    },
    {
      "cell_type": "code",
      "metadata": {
        "id": "TV1qsn_RFpJL",
        "colab": {
          "base_uri": "https://localhost:8080/"
        },
        "outputId": "bd73b41b-7126-4ecc-e6b7-4587bce397d0"
      },
      "source": [
        "train_generator= train_datagen.flow_from_dataframe(\n",
        "                      dataframe=df_train,\n",
        "                      directory=\"/content/drive/MyDrive/CNN/Dogs/Dataset/train\",\n",
        "                      x_col='filename',\n",
        "                      y_col=\"breed\", \n",
        "                      subset=\"training\",\n",
        "                      batch_size=32,\n",
        "                      seed=42,\n",
        "                      shuffle=True,\n",
        "                      class_mode=\"categorical\",\n",
        "                      target_size=(224, 224))"
      ],
      "execution_count": null,
      "outputs": [
        {
          "output_type": "stream",
          "text": [
            "Found 8177 validated image filenames belonging to 120 classes.\n"
          ],
          "name": "stdout"
        }
      ]
    },
    {
      "cell_type": "code",
      "metadata": {
        "colab": {
          "base_uri": "https://localhost:8080/"
        },
        "id": "zXxggoMgGPO0",
        "outputId": "68459f6b-67ef-4cb5-8174-afb24b5d6018"
      },
      "source": [
        "validation_set = validation_datagen.flow_from_dataframe(\n",
        "                dataframe=df_validation,\n",
        "                directory='/content/drive/MyDrive/CNN/Dogs/Dataset/train', \n",
        "                x_col=\"filename\",\n",
        "                y_col=\"breed\",\n",
        "                target_size=(224, 224),\n",
        "                class_mode=\"categorical\",\n",
        "                batch_size=32,\n",
        "                seed=42,\n",
        "                shuffle=True\n",
        "            ) "
      ],
      "execution_count": null,
      "outputs": [
        {
          "output_type": "stream",
          "text": [
            "Found 2045 validated image filenames belonging to 120 classes.\n"
          ],
          "name": "stdout"
        }
      ]
    },
    {
      "cell_type": "code",
      "metadata": {
        "id": "B1DFmdYhNS25"
      },
      "source": [
        "df_submission = pd.read_csv('/content/drive/MyDrive/CNN/Dogs/Dataset/sample_submission.csv', dtype=str)"
      ],
      "execution_count": null,
      "outputs": []
    },
    {
      "cell_type": "code",
      "metadata": {
        "id": "_Ke0mptbRGnA"
      },
      "source": [
        "df_submission.head()"
      ],
      "execution_count": null,
      "outputs": []
    },
    {
      "cell_type": "code",
      "metadata": {
        "id": "4dPEivJdOjqA"
      },
      "source": [
        "df_submission[\"id\"] = df_submission.apply(lambda x : (x['id'] + '.jpg'), axis = 1)"
      ],
      "execution_count": null,
      "outputs": []
    },
    {
      "cell_type": "code",
      "metadata": {
        "colab": {
          "base_uri": "https://localhost:8080/"
        },
        "id": "WcEhV92IROWx",
        "outputId": "e970cfa3-b244-4337-ea01-b8b4f50efe5b"
      },
      "source": [
        "test_datagen = ImageDataGenerator(rescale=1/255.)\n",
        "test_generator= test_datagen.flow_from_dataframe(\n",
        "                      dataframe=df_submission,\n",
        "                      directory=\"/content/drive/MyDrive/CNN/Dogs/Dataset/test\",\n",
        "                      x_col='id',\n",
        "                      y_col= None,\n",
        "                      batch_size=32,\n",
        "                      seed=42,\n",
        "                      shuffle=False,\n",
        "                      class_mode=None,\n",
        "                      target_size=(224, 224))"
      ],
      "execution_count": null,
      "outputs": [
        {
          "output_type": "stream",
          "text": [
            "Found 10357 validated image filenames.\n"
          ],
          "name": "stdout"
        }
      ]
    },
    {
      "cell_type": "code",
      "metadata": {
        "id": "V08Ef8LjMk0A"
      },
      "source": [
        "from tensorflow.keras.preprocessing.image import ImageDataGenerator\n",
        "from tensorflow.keras.applications import MobileNetV2\n",
        "from tensorflow.keras.layers import AveragePooling2D, BatchNormalization, MaxPooling2D, GlobalAveragePooling2D\n",
        "from tensorflow.keras.layers import Dropout\n",
        "from tensorflow.keras.layers import Flatten\n",
        "from tensorflow.keras.layers import Dense\n",
        "from tensorflow.keras.layers import Input, Lambda\n",
        "from tensorflow.keras.models import Model, Sequential\n",
        "from tensorflow.keras.callbacks import Callback, EarlyStopping\n",
        "from tensorflow.keras.callbacks import ReduceLROnPlateau\n",
        "from tensorflow.keras.callbacks import ModelCheckpoint\n",
        "from tensorflow.keras.optimizers import Adam\n",
        "from tensorflow.keras.applications.mobilenet_v2 import preprocess_input\n",
        "from tensorflow.keras.preprocessing.image import img_to_array\n",
        "from tensorflow.keras.preprocessing.image import load_img\n",
        "from tensorflow.keras.utils import to_categorical\n",
        "from sklearn.preprocessing import LabelBinarizer\n",
        "from sklearn.model_selection import train_test_split\n",
        "from sklearn.metrics import classification_report\n",
        "from imutils import paths\n",
        "import shutil\n",
        "import matplotlib.pyplot as plt\n",
        "import numpy as np\n",
        "import argparse\n",
        "import os\n",
        "from tensorflow.keras.preprocessing import image\n",
        "from tensorflow.keras.applications.vgg16 import VGG16\n",
        "from tensorflow.keras.applications.vgg16 import preprocess_input\n",
        "\n",
        "from tensorflow.keras.applications.resnet50 import ResNet50\n",
        "from tensorflow.keras.applications.resnet50 import preprocess_input\n",
        "from tensorflow.keras.applications.resnet50 import decode_predictions\n",
        "\n",
        "from tensorflow.keras.applications import inception_v3\n",
        "from tensorflow.keras.applications.inception_v3 import InceptionV3\n",
        "from tensorflow.keras.applications.inception_v3 import preprocess_input as inception_v3_preprocessor\n",
        "from tensorflow.keras.applications.mobilenet import MobileNet\n",
        "\n",
        "from tensorflow.keras.applications.nasnet import NASNetMobile\n",
        "\n",
        "from tensorflow.keras.models import load_model"
      ],
      "execution_count": null,
      "outputs": []
    },
    {
      "cell_type": "code",
      "metadata": {
        "id": "KqSsMU4vMrSF"
      },
      "source": [
        "INIT_LR = 1e-4\n",
        "EPOCHS = 20\n",
        "BS = 32 \n",
        "IMAGE_SIZE = [224, 224] \n",
        "#IMAGE_SIZE = [256, 256] "
      ],
      "execution_count": null,
      "outputs": []
    },
    {
      "cell_type": "code",
      "metadata": {
        "id": "yBlH62_ENAGH"
      },
      "source": [
        "from glob import glob\n",
        "folders = np.unique(pd.Series(df['breed']))"
      ],
      "execution_count": null,
      "outputs": []
    },
    {
      "cell_type": "code",
      "metadata": {
        "colab": {
          "base_uri": "https://localhost:8080/"
        },
        "id": "fktBJzTxSPXX",
        "outputId": "808ae4e5-af8c-4bc0-ec77-aceaa7d91e35"
      },
      "source": [
        "len(folders)"
      ],
      "execution_count": null,
      "outputs": [
        {
          "output_type": "execute_result",
          "data": {
            "text/plain": [
              "120"
            ]
          },
          "metadata": {
            "tags": []
          },
          "execution_count": 85
        }
      ]
    },
    {
      "cell_type": "code",
      "metadata": {
        "id": "QjNhkWYJagGW"
      },
      "source": [
        "\n",
        "import datetime as dt\n",
        "start = dt.datetime.now()\n",
        "\n",
        "INIT_LR = 1e-4\n",
        "EPOCHS = 20\n",
        "BS = 16\n",
        "TESTING_SPLIT=0.3\t# 70/30 %\n",
        "\n",
        "NUM_CLASSES = 120\n",
        "IMAGE_SIZE = 256\n",
        "\n",
        "#strModelFileName = \"models/ResNet50.h5\"\n",
        "\n",
        "# strModelFileName = \"models/InceptionV3.h5\"\n",
        "strModelFileName = \"models/InceptionV3_Sgd.h5\"\n",
        "\n",
        "#IMAGE_SIZE = 224\n",
        "#strModelFileName = \"models/MobileNetV2.h5\"\n",
        "\n",
        "#IMAGE_SIZE = 224\n",
        "#strModelFileName = \"models/NASNetMobileSgd.h5\""
      ],
      "execution_count": null,
      "outputs": []
    },
    {
      "cell_type": "code",
      "metadata": {
        "id": "ufBIhzTWSS2O"
      },
      "source": [
        "def createModelMobileNetV2():\n",
        "  # First, create the NN and load pre-trained\n",
        "  # weights for it ('imagenet')\n",
        "  # Note that we are not loading last layers of \n",
        "  # the network (include_top=False) whether the last layer should be added or not, as we are \n",
        "  # going to add layers of our own:\n",
        "  base_model = MobileNet(weights='imagenet', include_top=False, pooling='avg', input_shape=(IMAGE_SIZE, IMAGE_SIZE, 3))\n",
        "\t\n",
        "  for layer in base_model.layers:\n",
        "\t  layer.trainable = False\n",
        "\n",
        "  # Then attach our layers at the end. These are \n",
        "  # to build \"classifier\" that makes sense of \n",
        "  # the patterns previous layers provide:\n",
        "  x = base_model.output\n",
        "  x = Dense(512)(x)\n",
        "  x = Activation('relu')(x)\n",
        "  x = Dropout(0.5)(x)\n",
        "\t\t  \n",
        "  predictions = Dense(len(folders), activation='softmax')(x)\n",
        "\n",
        "  # Create a model\n",
        "  model = Model(inputs=base_model.input, outputs=predictions)\n",
        "\n",
        "\n",
        "\t\t\t  \n",
        "  # As always, there are different possible \n",
        "  # settings, I tried few and chose the best:\n",
        "  #  model.compile(optimizer='adam', \n",
        "  #    loss='categorical_crossentropy', \n",
        "  #    metrics=['accuracy'])\n",
        "  model.compile(optimizer='sgd', \n",
        "\tloss='categorical_crossentropy', \n",
        "\tmetrics=['accuracy']) \n",
        "\n",
        "  #model.summary()            \n",
        "\t\t  \n",
        "  return(model)"
      ],
      "execution_count": null,
      "outputs": []
    },
    {
      "cell_type": "code",
      "metadata": {
        "id": "JsyjgoG7PUsz"
      },
      "source": [
        "def createModelResNet50():\n",
        "  base_model = ResNet50(weights='imagenet', include_top=False, pooling='avg', input_shape=(IMAGE_SIZE, IMAGE_SIZE, 3))\n",
        "\n",
        "  x = base_model.output\n",
        "  x = Dense(512)(x)\n",
        "  x = Activation('relu')(x)\n",
        "  x = Dropout(0.5)(x)\n",
        "\t\t  \n",
        "  predictions = Dense(len(folders), activation='softmax')(x)\n",
        "\n",
        "  model = Model(inputs=base_model.input, \n",
        "\toutputs=predictions)\n",
        "\n",
        "  for layer in base_model.layers:\n",
        "\t  layer.trainable = False\n",
        "\t\t\t  \n",
        "#  model.compile(loss='categorical_crossentropy', \n",
        "#\toptimizer='adam', metrics=['accuracy'])\n",
        "  model.compile(optimizer='sgd', \n",
        "\tloss='categorical_crossentropy', \n",
        "\tmetrics=['accuracy']) \n",
        "\n",
        "  #model.summary()            \n",
        "\t\t  \n",
        "  return(model)"
      ],
      "execution_count": null,
      "outputs": []
    },
    {
      "cell_type": "code",
      "metadata": {
        "id": "vVMPK31vPagD"
      },
      "source": [
        "def createModelInceptionV3():\n",
        "#  model.layers[0].trainable = False\n",
        "#  model.compile(optimizer='sgd', \n",
        "#    loss='categorical_crossentropy', \n",
        "#    metrics=['accuracy']) \n",
        "\n",
        "  base_model = InceptionV3(weights = 'imagenet', include_top = False, input_shape=(255, 255, 3))\n",
        "\t\t  \n",
        "  x = base_model.output\n",
        "  x = GlobalAveragePooling2D()(x)\n",
        "\n",
        "  x = Dense(512, activation='relu')(x)\n",
        "  predictions = Dense(len(folders),activation='softmax')(x)\n",
        "\n",
        "  model = Model(inputs = base_model.input, \n",
        "\toutputs = predictions)\n",
        "\n",
        "  for layer in base_model.layers:\n",
        "\t  layer.trainable = False\n",
        "\n",
        "#  model.compile(optimizer='adam', \n",
        "#    loss='categorical_crossentropy', \n",
        "#    metrics=['accuracy']) \n",
        "  model.compile(optimizer='sgd', \n",
        "\tloss='categorical_crossentropy', \n",
        "\tmetrics=['accuracy'])\n",
        "\t\t  \n",
        "  #model.summary()      \n",
        "\t\t  \n",
        "  return(model)"
      ],
      "execution_count": null,
      "outputs": []
    },
    {
      "cell_type": "code",
      "metadata": {
        "id": "YuAMupx0PdIM"
      },
      "source": [
        "def createModelNASNetMobile():\n",
        "#  model.layers[0].trainable = False\n",
        "#  model.compile(optimizer='sgd', \n",
        "#    loss='categorical_crossentropy', \n",
        "#    metrics=['accuracy']) \n",
        "\n",
        "  base_model = NASNetMobile(weights = 'imagenet', \n",
        "\tinclude_top = False, \n",
        "\tinput_shape=(IMAGE_SIZE, IMAGE_SIZE, 3))\n",
        "\t\t  \n",
        "  x = base_model.output\n",
        "  x = GlobalAveragePooling2D()(x)\n",
        "\n",
        "  x = Dense(512, activation='relu')(x)\n",
        "  predictions = Dense(len(folders),\n",
        "\tactivation='softmax')(x)\n",
        "\n",
        "  model = Model(inputs = base_model.input, \n",
        "\toutputs = predictions)\n",
        "\n",
        "  for layer in base_model.layers:\n",
        "  \tlayer.trainable = False\n",
        "\n",
        "#  model.compile(optimizer='adam', \n",
        "#\t loss='categorical_crossentropy', \n",
        "#    metrics=['accuracy']) \n",
        "  model.compile(optimizer='sgd', \n",
        "\tloss='categorical_crossentropy', \n",
        "\tmetrics=['accuracy'])\n",
        "\t\t  \n",
        "  #model.summary()      \n",
        "\t\t  \n",
        "  return(model)"
      ],
      "execution_count": null,
      "outputs": []
    },
    {
      "cell_type": "markdown",
      "metadata": {
        "id": "3Ua3xxvLPmrL"
      },
      "source": [
        "First of all, we are experimenting, so we need to be able to delete NNs we have saved before, but do not need anymore. The following function deletes NN if the file exists:"
      ]
    },
    {
      "cell_type": "code",
      "metadata": {
        "id": "ymNSHqUWPox-"
      },
      "source": [
        "# Make sure that previous \"best network\" is deleted.\n",
        "def deleteSavedNet(best_weights_filepath):\n",
        "\tif(os.path.isfile(best_weights_filepath)):\n",
        "\t\tos.remove(best_weights_filepath)\n",
        "\t\tprint(\"deleteSavedNet():File removed\")\n",
        "\telse:\n",
        "\t\tprint(\"deleteSavedNet():No file to remove\") "
      ],
      "execution_count": null,
      "outputs": []
    },
    {
      "cell_type": "code",
      "metadata": {
        "id": "xFDObeZ2P4rZ"
      },
      "source": [
        "#deleteSavedNet(working_path + strModelFileName)\n",
        "model = createModelInceptionV3()\n",
        "\t#if not os.path.exists(working_path + \"models\"):\n",
        "\t#\tos.makedirs(working_path + \"models\")\n",
        "\t#    \n",
        "\t#if not os.path.exists(working_path + \n",
        "\t#\tstrModelFileName):\n",
        "\t# model = createModelResNet50()\n",
        "\t\n",
        "\t# model = createModelMobileNetV2()\n",
        "\t# model = createModelNASNetMobile()\n",
        "\t#else:\n",
        "\t#\tmodel = load_model(working_path + strModelFileName)"
      ],
      "execution_count": null,
      "outputs": []
    },
    {
      "cell_type": "markdown",
      "metadata": {
        "id": "PulfBRYHP_lY"
      },
      "source": [
        "Checkpoints are very important when teaching the NNs. You can create an array of functions to be called at the end of each training epoch, for example, you can save the NN if if shows better results than the last one saved.\n"
      ]
    },
    {
      "cell_type": "code",
      "metadata": {
        "id": "Pqum2anJQA1j"
      },
      "source": [
        "checkpoint = ModelCheckpoint(working_path + \n",
        "\tstrModelFileName, monitor='val_acc',\n",
        "\tverbose=1, save_best_only=True, \n",
        "\tmode='auto', save_weights_only=False)\n",
        "\n",
        "callbacks_list = [ checkpoint ]"
      ],
      "execution_count": null,
      "outputs": []
    },
    {
      "cell_type": "code",
      "metadata": {
        "id": "eYDtK1syQXnm"
      },
      "source": [
        "# Calculate sizes of training and validation sets\n",
        "STEP_SIZE_TRAIN=train_generator.n//train_generator.batch_size\n",
        "STEP_SIZE_VALID=validation_set.n//validation_set.batch_size\n",
        "\n",
        "#STEP_SIZE_TRAIN=train_generator.n//train_generator.batch_size\n",
        "#STEP_SIZE_VALID=validation_set.n//validation_set.batch_size\n",
        "#STEP_SIZE_TEST=test_generator.n//test_generator.batch_size\n",
        "#print(STEP_SIZE_TRAIN, STEP_SIZE_VALID, STEP_SIZE_TEST)\n",
        "\n",
        "# Set to False if we are experimenting with \n",
        "# some other part of code, use history that\n",
        "# was calculated before (and is still in\n",
        "# memory\n",
        "bDoTraining = True \n",
        "\n",
        "if bDoTraining == True:\n",
        "\t# model.fit_generator does the actual training\n",
        "\t# Note the use of generators and callbacks\n",
        "\t# that were defined earlier\n",
        "\thistory = model.fit_generator(generator=train_generator,\n",
        "\t\tsteps_per_epoch=STEP_SIZE_TRAIN,\n",
        "\t\tvalidation_data=validation_set,\n",
        "\t\tvalidation_steps=STEP_SIZE_VALID,\n",
        "\t\tepochs=EPOCHS,\n",
        "\t\tcallbacks=callbacks_list)\n",
        "\n",
        "\t# --- After fitting, load the best model\n",
        "\t# This is important as otherwise we'll \n",
        "\t# have the LAST model loaded, not necessarily\n",
        "\t# the best one.\n",
        "\tmodel.load_weights(working_path + strModelFileName)\n",
        "\n",
        "\t# --- Presentation part\n",
        "\n",
        "\t# summarize history for accuracy\n",
        "\tplt.plot(history.history['acc'])\n",
        "\tplt.plot(history.history['val_acc'])\n",
        "\tplt.title('model accuracy')\n",
        "\tplt.ylabel('accuracy')\n",
        "\tplt.xlabel('epoch')\n",
        "\tplt.legend(['acc', 'val_acc'], loc='upper left')\n",
        "\tplt.show()\n",
        "\t\t\t\n",
        "\t# summarize history for loss\n",
        "\tplt.plot(history.history['loss'])\n",
        "\tplt.plot(history.history['val_loss'])\n",
        "\tplt.title('model loss')\n",
        "\tplt.ylabel('loss')\n",
        "\tplt.xlabel('epoch')\n",
        "\tplt.legend(['loss', 'val_loss'], loc='upper left')\n",
        "\tplt.show()\n",
        "\t\t  \n",
        "\t# As grid optimization of NN would take too long, \n",
        "\t# I did just few tests with different parameters.\n",
        "\t# Below I keep results, commented out, in the same \n",
        "\t# code. As you can see, Inception shows the best\n",
        "\t# results:\n",
        "\t\t  \n",
        "\t# Inception: \n",
        "\t# adam: val_acc 0.79393\n",
        "\t# sgd: val_acc 0.80892\n",
        "\t\t  \n",
        "\t# Mobile:\n",
        "\t# adam: val_acc 0.65290\n",
        "\t# sgd: Epoch 00015: val_acc improved from 0.67584 to 0.68469\n",
        "\t# sgd-30 epochs: 0.68\n",
        "\t\t  \n",
        "\t# NASNetMobile, adam: val_acc did not improve from 0.78335\n",
        "\t# NASNetMobile, sgd: 0.8"
      ],
      "execution_count": null,
      "outputs": []
    },
    {
      "cell_type": "code",
      "metadata": {
        "colab": {
          "base_uri": "https://localhost:8080/",
          "height": 573
        },
        "id": "K7gmjF0w-Jwk",
        "outputId": "128cdb75-fac7-4601-ed7e-3226e7556270"
      },
      "source": [
        "plt.plot(history.history['accuracy'])\n",
        "plt.plot(history.history['val_accuracy'])\n",
        "plt.title('model accuracy')\n",
        "plt.ylabel('accuracy')\n",
        "plt.xlabel('epoch')\n",
        "plt.legend(['acc', 'val_acc'], loc='upper left')\n",
        "plt.show()\n",
        "    \n",
        "# summarize history for loss\n",
        "plt.plot(history.history['loss'])\n",
        "plt.plot(history.history['val_loss'])\n",
        "plt.title('model loss')\n",
        "plt.ylabel('loss')\n",
        "plt.xlabel('epoch')\n",
        "plt.legend(['loss', 'val_loss'], loc='upper left')\n",
        "plt.show()"
      ],
      "execution_count": null,
      "outputs": [
        {
          "output_type": "display_data",
          "data": {
            "image/png": "[encoded data removed]",
            "text/plain": [
              "<Figure size 432x288 with 1 Axes>"
            ]
          },
          "metadata": {
            "tags": []
          }
        },
        {
          "output_type": "display_data",
          "data": {
            "image/png": "[encoded data removed]",
            "text/plain": [
              "<Figure size 432x288 with 1 Axes>"
            ]
          },
          "metadata": {
            "tags": []
          }
        }
      ]
    },
    {
      "cell_type": "code",
      "metadata": {
        "id": "XlApVck4fewn"
      },
      "source": [
        "import cv2\n",
        "j = 0\n",
        "\n",
        "# Final cycle performs testing on the entire\n",
        "# testing set. \n",
        "for file_name in os.listdir(\"/content/drive/MyDrive/CNN/Dogs/Dataset/test/\"):\n",
        "\n",
        "\timg = image.load_img(\"/content/drive/MyDrive/CNN/Dogs/Dataset/test/\"+ file_name);\n",
        "\n",
        "\timg_1 = image.img_to_array(img)\n",
        "\timg_1 = cv2.resize(img_1, (255, 255), \n",
        "\t\tinterpolation = cv2.INTER_AREA)\n",
        "\timg_1 = np.expand_dims(img_1, axis=0) / 255.\n",
        "\n",
        "\ty_pred = model.predict_on_batch(img_1)\n",
        "\t\n",
        "\ty_pred_ids = y_pred[0][-5:][::-1]\n",
        "\n",
        "\tprint(file_name)\n",
        "\tfor i in range(len(y_pred_ids)):\n",
        "\t\tprint(y_pred[0][-5:][::-1])\n",
        "\n",
        "\tprint(\"--------------------\\n\")\n",
        "\n",
        "\tj = j + 1"
      ],
      "execution_count": null,
      "outputs": []
    },
    {
      "cell_type": "markdown",
      "metadata": {
        "id": "vbOVoiGIh9ip"
      },
      "source": [
        "In the feature extraction experiment, you were only training a few layers on top of an MobileNet V2 base model. The weights of the pre-trained network were not updated during training.\n",
        "\n",
        "One way to increase performance even further is to train (or \"fine-tune\") the weights of the top layers of the pre-trained model alongside the training of the classifier you added. The training process will force the weights to be tuned from generic feature maps to features associated specifically with the dataset.\n",
        "Also, you should try to fine-tune a small number of top layers rather than the whole MobileNet model. In most convolutional networks, the higher up a layer is, the more specialized it is. The first few layers learn very simple and generic features that generalize to almost all types of images. As you go higher up, the features are increasingly more specific to the dataset on which the model was trained. The goal of fine-tuning is to adapt these specialized features to work with the new dataset, rather than overwrite the generic learning."
      ]
    },
    {
      "cell_type": "code",
      "metadata": {
        "id": "JKek1TxWA_1Q"
      },
      "source": [
        "def createModelInceptionV3():\n",
        "#  model.layers[0].trainable = False\n",
        "#  model.compile(optimizer='sgd', \n",
        "#    loss='categorical_crossentropy', \n",
        "#    metrics=['accuracy']) \n",
        "\n",
        "  base_model = InceptionV3(weights = 'imagenet', include_top = False, input_shape=(255, 255, 3))\n",
        "\t\t  \n",
        "  x = base_model.output\n",
        "  x = GlobalAveragePooling2D()(x)\n",
        "\n",
        "  x = Dense(512, activation='relu')(x)\n",
        "  predictions = Dense(len(folders),activation='softmax')(x)\n",
        "\n",
        "  model = Model(inputs = base_model.input, \n",
        "\toutputs = predictions)\n",
        "  base_model.trainable = True\n",
        "  print(\"Number of layers in the base model: \", len(base_model.layers)) //311\n",
        "\n",
        "  fine_tune_at = 100\n",
        "  \n",
        "  for layer in base_model.layers[:fine_tune_at]:\n",
        "    layer.trainable =  False\n",
        "\t\t\t  \n",
        "  #As you are training a much larger model and want to readapt the pretrained weights, \n",
        "  #it is important to use a lower learning rate at this stage. Otherwise, your model could overfit very quickly.\n",
        "\n",
        "  model.compile(loss=tensorflow.keras.losses.BinaryCrossentropy(from_logits=True),\n",
        "              optimizer = tensorflow.keras.optimizers.RMSprop(lr=base_learning_rate/10),\n",
        "              metrics=['accuracy'])\n",
        "\t\t  \n",
        "  return(model)"
      ],
      "execution_count": null,
      "outputs": []
    },
    {
      "cell_type": "code",
      "metadata": {
        "id": "s-Y3R3i0iFpz"
      },
      "source": [
        "def createModelMobileNetV2():\n",
        "  # First, create the NN and load pre-trained\n",
        "  # weights for it ('imagenet')\n",
        "  # Note that we are not loading last layers of \n",
        "  # the network (include_top=False), as we are \n",
        "  # going to add layers of our own:\n",
        "  base_model = MobileNet(weights='imagenet', include_top=False, pooling='avg', input_shape=(IMAGE_SIZE, IMAGE_SIZE, 3))\n",
        "\t\t\t\n",
        "  # Then attach our layers at the end. These are \n",
        "  # to build \"classifier\" that makes sense of \n",
        "  # the patterns previous layers provide:\n",
        "  x = base_model.output\n",
        "  x = Dense(512)(x)\n",
        "  x = Activation('relu')(x)\n",
        "  x = Dropout(0.5)(x)\n",
        "\t\t  \n",
        "  predictions = Dense(len(folders), activation='softmax')(x)\n",
        "\n",
        "  # Create a model\n",
        "  model = Model(inputs=base_model.input, outputs=predictions)\n",
        "  base_model.trainable = True\n",
        "  print(\"Number of layers in the base model: \", len(base_model.layers))\n",
        "\n",
        "  fine_tune_at = 100\n",
        "  \n",
        "  for layer in base_model.layers[:fine_tune_at]:\n",
        "    layer.trainable =  False\n",
        "\t\t\t  \n",
        "  #As you are training a much larger model and want to readapt the pretrained weights, \n",
        "  #it is important to use a lower learning rate at this stage. Otherwise, your model could overfit very quickly.\n",
        "\n",
        "  model.compile(loss=tensorflow.keras.losses.BinaryCrossentropy(from_logits=True),\n",
        "              optimizer = tensorflow.keras.optimizers.RMSprop(lr=base_learning_rate/10),\n",
        "              metrics=['accuracy'])\n",
        "\n",
        "  #model.summary()            \n",
        "\t\t  \n",
        "  return(model)"
      ],
      "execution_count": null,
      "outputs": []
    },
    {
      "cell_type": "code",
      "metadata": {
        "colab": {
          "background_save": true
        },
        "id": "A9di1JfAjx6P"
      },
      "source": [
        "fine_tune_epochs = 10\n",
        "total_epochs =  EPOCHS + fine_tune_epochs\n",
        "\n",
        "history = model.fit_generator(generator=train_generator,\n",
        "\t\tsteps_per_epoch=STEP_SIZE_TRAIN,\n",
        "\t\tvalidation_data=validation_set,\n",
        "\t\tvalidation_steps=STEP_SIZE_VALID,\n",
        "\t\tepochs=total_epochs,\n",
        "\t\tcallbacks=callbacks_list\n",
        ")"
      ],
      "execution_count": null,
      "outputs": []
    },
    {
      "cell_type": "code",
      "metadata": {
        "id": "fBxIOwKrS26g"
      },
      "source": [
        "# baseModel.summary() "
      ],
      "execution_count": null,
      "outputs": []
    },
    {
      "cell_type": "code",
      "metadata": {
        "id": "vkjnkaR0S0Ww"
      },
      "source": [
        "# headModel = baseModel.output\n",
        "# headModel = AveragePooling2D(pool_size=(7, 7))(headModel)\n",
        "# headModel = Flatten(name=\"flatten\")(headModel)\n",
        "# headModel = Dense(128, activation=\"relu\")(headModel)\n",
        "# headModel = Dropout(0.5)(headModel)\n",
        "# headModel = Dense(len(folders), activation=\"softmax\")(headModel)\n",
        "# model = Model(inputs=baseModel.input, outputs=headModel)"
      ],
      "execution_count": null,
      "outputs": []
    },
    {
      "cell_type": "code",
      "metadata": {
        "id": "uXI-WrQ0TPdc"
      },
      "source": [
        "# for layer in baseModel.layers:\n",
        "# \tlayer.trainable = False"
      ],
      "execution_count": null,
      "outputs": []
    },
    {
      "cell_type": "code",
      "metadata": {
        "id": "RxEO4_RsTb0X"
      },
      "source": [
        "# model.summary()"
      ],
      "execution_count": null,
      "outputs": []
    },
    {
      "cell_type": "code",
      "metadata": {
        "id": "PTBZ731bTe0u"
      },
      "source": [
        "# opt = Adam(lr=INIT_LR, decay = INIT_LR / 20)\n",
        "# model.compile(loss=\"categorical_crossentropy\", optimizer=opt,metrics=[\"accuracy\"])"
      ],
      "execution_count": null,
      "outputs": []
    },
    {
      "cell_type": "code",
      "metadata": {
        "colab": {
          "base_uri": "https://localhost:8080/"
        },
        "id": "5Rq-oBSYT7LV",
        "outputId": "b67f7076-d792-4e8a-c735-fa051f772dac"
      },
      "source": [
        "# STEP_SIZE_TRAIN=train_generator.n//train_generator.batch_size\n",
        "# STEP_SIZE_VALID=validation_set.n//validation_set.batch_size\n",
        "# STEP_SIZE_TEST=test_generator.n//test_generator.batch_size\n",
        "# print(STEP_SIZE_TRAIN, STEP_SIZE_VALID, STEP_SIZE_TEST)"
      ],
      "execution_count": null,
      "outputs": [
        {
          "output_type": "stream",
          "text": [
            "255 63 323\n"
          ],
          "name": "stdout"
        }
      ]
    },
    {
      "cell_type": "code",
      "metadata": {
        "id": "A059Lg7zTvib"
      },
      "source": [
        "# dog_breed_model = model.fit_generator(\n",
        "#   train_generator,\n",
        "#   validation_data=validation_set,\n",
        "#   epochs=100,\n",
        "#   steps_per_epoch=STEP_SIZE_TRAIN,\n",
        "#   validation_steps=STEP_SIZE_VALID \n",
        "# )   "
      ],
      "execution_count": null,
      "outputs": []
    },
    {
      "cell_type": "code",
      "metadata": {
        "colab": {
          "base_uri": "https://localhost:8080/",
          "height": 316
        },
        "id": "9Ce16tpZUgIC",
        "outputId": "16b48ce3-7b6b-4ce3-9d78-3032d20ddcf7"
      },
      "source": [
        "# N = 100\n",
        "# plt.style.use(\"ggplot\")\n",
        "# plt.figure()\n",
        "# plt.plot(np.arange(0, N), dog_breed_model.history[\"loss\"], label=\"train_loss\")\n",
        "# plt.plot(np.arange(0, N), dog_breed_model.history[\"val_loss\"], label=\"val_loss\")\n",
        "# plt.plot(np.arange(0, N), dog_breed_model.history[\"accuracy\"], label=\"train_accuracy\")\n",
        "# plt.plot(np.arange(0, N), dog_breed_model.history[\"val_accuracy\"], label=\"val_accuracy\")\n",
        "# plt.title(\"Training Loss and Accuracy\")\n",
        "# plt.xlabel(\"Epoch #\")\n",
        "# plt.ylabel(\"Loss/Accuracy\")\n",
        "# plt.legend(loc=\"lower left\") "
      ],
      "execution_count": null,
      "outputs": [
        {
          "output_type": "execute_result",
          "data": {
            "text/plain": [
              "<matplotlib.legend.Legend at 0x7f303226df98>"
            ]
          },
          "metadata": {
            "tags": []
          },
          "execution_count": 37
        },
        {
          "output_type": "display_data",
          "data": {
            "image/png": "[encoded data removed]",
            "text/plain": [
              "<Figure size 432x288 with 1 Axes>"
            ]
          },
          "metadata": {
            "tags": []
          }
        }
      ]
    },
    {
      "cell_type": "code",
      "metadata": {
        "id": "wRTSSaE-WQWe"
      },
      "source": [
        "# dog_breed_model.evaluate_generator(generator=validation_set, steps=STEP_SIZE_TEST)"
      ],
      "execution_count": null,
      "outputs": []
    },
    {
      "cell_type": "code",
      "metadata": {
        "id": "yAFcRVzCVUHX"
      },
      "source": [
        "# test_generator.reset()\n",
        "# pred=dog_breed_model.predict_generator(test_generator, steps=STEP_SIZE_TEST, verbose=1)"
      ],
      "execution_count": null,
      "outputs": []
    },
    {
      "cell_type": "code",
      "metadata": {
        "id": "GyG8NsKZW2Ti"
      },
      "source": [
        "# predicted_class_indices=np.argmax(pred,axis=1)\n",
        "# labels = (train_generator.class_indices)\n",
        "# labels = dict((v,k) for k,v in labels.items())\n",
        "# predictions = [labels[k] for k in predicted_class_indices]"
      ],
      "execution_count": null,
      "outputs": []
    },
    {
      "cell_type": "code",
      "metadata": {
        "id": "wUQPz6wxXC7t"
      },
      "source": [
        "# filenames=test_generator.filenames\n",
        "# results=pd.DataFrame({\"Filename\":filenames,\n",
        "#                       \"Predictions\":predictions})\n",
        "# results.to_csv(\"results.csv\",index=False)"
      ],
      "execution_count": null,
      "outputs": []
    },
    {
      "cell_type": "code",
      "metadata": {
        "id": "npMzKmDyVYek"
      },
      "source": [
        "# df_final = pd.read_csv('/content/drive/MyDrive/CNN/Dogs/Dataset/sample_submission.csv')\n",
        "# df_final_submission = df_final[\"id\"]\n",
        "# df_final_submission.iloc[:,1:] = y_pred"
      ],
      "execution_count": null,
      "outputs": []
    },
    {
      "cell_type": "code",
      "metadata": {
        "id": "pyFBRQN3WE5H"
      },
      "source": [
        "# final_df = df_final_submission.set_index('id')\n",
        "# final_df.to_csv('Submission_1.csv')"
      ],
      "execution_count": null,
      "outputs": []
    }
  ]
}